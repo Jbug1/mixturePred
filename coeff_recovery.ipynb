{
 "cells": [
  {
   "cell_type": "code",
   "execution_count": 402,
   "metadata": {},
   "outputs": [],
   "source": [
    "import numpy as np\n",
    "from sklearn.linear_model import LinearRegression as lin \n",
    "from sklearn.linear_model import Ridge\n",
    "from sklearn.linear_model import Lasso\n",
    "from sklearn.linear_model import ElasticNet as en \n",
    "from sklearn.ensemble import RandomForestRegressor as rf\n",
    "from sklearn.ensemble import GradientBoostingRegressor as gb\n",
    "from sklearn.ensemble import ExtraTreesRegressor as et\n",
    "from sklearn.ensemble import HistGradientBoostingRegressor as hist\n",
    "import matplotlib.pyplot as plt\n",
    "from sklearn.tree import DecisionTreeRegressor as dt\n",
    "import pandas as pd\n",
    "from bisect import bisect_left as bi\n",
    "import warnings\n",
    "warnings.simplefilter(\"ignore\")\n",
    "\n",
    "import func_generation\n"
   ]
  },
  {
   "cell_type": "code",
   "execution_count": 236,
   "metadata": {},
   "outputs": [],
   "source": [
    "\n",
    "critical_vars = {0:[0.5,4], 1:[0.5,3,4,20]}\n",
    "funcs_dict= {(0,0):[1,7,-13,4,50,0,0],(1,0):[3,4,3,0,3,0,0],(2,0):[3,10,3,-8,0,0,4],(0,1):[5,-3,3,0,-5,0,0],(0,2):[12,14,3,0,-4,0,-6],(0,3):[1,4,34,0,-4,0,6],(2,3):[-1,-4,34,0,-4,0,6],(1,4):[-1,-4,34,0,0,0,0],(1,3):[-1,20,6,0,6,0,0]}\n",
    "\n",
    "\n",
    "#piecewise(data[:,:-1], funcs_dict, critical_vars, default_coeffs=[-1,-10,3,2,0])\n",
    "\n"
   ]
  },
  {
   "cell_type": "code",
   "execution_count": 382,
   "metadata": {},
   "outputs": [],
   "source": [
    "verbose = False\n",
    "resy=dict()\n",
    "\n",
    "models = [\n",
    "        lin(),\n",
    "        Ridge(),\n",
    "        Lasso(),\n",
    "        en(),\n",
    "        rf(n_estimators=1000, max_features=None),\n",
    "        rf(max_features=None),\n",
    "        rf(n_estimators=1000),\n",
    "        rf()\n",
    "        # gb(),\n",
    "        # et(),\n",
    "        # dt()\n",
    "    ]\n",
    "for i in models:\n",
    "    resy[str(i)]=list()\n",
    "\n",
    "\n",
    "for _ in range(100):\n",
    "    size=100\n",
    "\n",
    "    a = np.random.exponential(scale = 3, size=size)\n",
    "    b = np.random.exponential(scale = 6, size=size)\n",
    "    c = np.clip(a+np.random.normal(0,4,size), 0, a_max=np.inf)\n",
    "    d = np.random.normal(0,10,size)\n",
    "    e = d+np.random.normal(0,10,size)\n",
    "    f = np.clip(a+np.random.normal(0,4,size), 0, a_max=np.inf)\n",
    "    g = np.clip(f+np.random.normal(0,4,size), 0, a_max=np.inf)\n",
    "    data = pd.DataFrame({'a':a,'b':b,'c':c,'d':d,'e':e,'f':f,'g':g}).to_numpy()\n",
    "\n",
    "    func_coeffs = [\n",
    "        (4,0),\n",
    "        (0,0),\n",
    "        (-1,0),\n",
    "        (4,0),\n",
    "        (0,0),\n",
    "    ]\n",
    "\n",
    "    default_coefs = [-1,-10,3,4,5,0,0]\n",
    "\n",
    "    #get coefficients in proper format\n",
    "    coeffs = generate_function_coefficients(func_coeffs, n=1)\n",
    "\n",
    "    #generate noise\n",
    "    noise=np.random.normal(0,4, size=size)\n",
    "\n",
    "    #generate function output\n",
    "    #y = (generate_func_output(coeffs, data, 0)+noise).reshape(-1,1)\n",
    "    y, util_dict = piecewise(data, funcs_dict, critical_vars, default_coefs)\n",
    "    y=y+noise\n",
    "    y=y.reshape(-1,1)\n",
    "\n",
    "    data = np.concatenate((data,y), axis=1)\n",
    "\n",
    "    if verbose:\n",
    "        print(f' data is of shape {data.shape}')\n",
    "        print('\\n')\n",
    "\n",
    "        print('Coefficient Utilization')\n",
    "        for key, value in util_dict.items():\n",
    "\n",
    "            print(f'{key}: {value}')\n",
    "\n",
    "\n",
    "    train=data[:int(size/2)]\n",
    "    test=data[int(size/2):]\n",
    "\n",
    "    \n",
    "    #print corr matrix of variables\n",
    "    if verbose:\n",
    "        print('Correlation matrix')\n",
    "        print(pd.DataFrame(data).corr())\n",
    "        print('\\n')\n",
    "        print('\\n')\n",
    "\n",
    "    #train models and report TEST RMSE\n",
    "    res = bake_off_func_output(train,test,models,[rmse])\n",
    "\n",
    "    if verbose: \n",
    "        print('Models and Test Errors')\n",
    "\n",
    "        for key, value in res.items():\n",
    "\n",
    "            print(f'{key}: {value}')\n",
    "\n",
    "        print('\\n')\n",
    "        print('\\n')\n",
    "\n",
    "\n",
    "    #gather the trained on coefficients for now\n",
    "    observed_coef = weighted_coefs_from_util(funcs_dict, util_dict,default_coefs)\n",
    "\n",
    "    #grab all coefficient estimates\n",
    "    feature_means = np.mean(train[:,:-1], axis=0)\n",
    "    estimates = get_coef_estimates(models, train, feature_means )\n",
    "\n",
    "    ranks_by_coef_error = rank_by_coef_error(estimates, observed_coef)\n",
    "\n",
    "    if verbose: print('Cosine Sim errors for func weights')\n",
    "\n",
    "    for key, value in ranks_by_coef_error.items():\n",
    "\n",
    "        if verbose: print(f'{key}: {value}')\n",
    "        \n",
    "        resy[str(key)].append(value)\n",
    "\n",
    "    "
   ]
  },
  {
   "cell_type": "code",
   "execution_count": 383,
   "metadata": {},
   "outputs": [
    {
     "name": "stdout",
     "output_type": "stream",
     "text": [
      "LinearRegression(): 0.5166257490563712\n",
      "Ridge(): 0.51759238489142\n",
      "Lasso(): 0.5205017393887682\n",
      "ElasticNet(): 0.5382741861160308\n",
      "RandomForestRegressor(max_features=None, n_estimators=1000): 0.2018296954035377\n",
      "RandomForestRegressor(max_features=None): 0.20724391025695393\n",
      "RandomForestRegressor(n_estimators=1000): 0.20248337282874002\n",
      "RandomForestRegressor(): 0.21065671369698927\n"
     ]
    }
   ],
   "source": [
    "for key, value in resy.items():\n",
    "    print(f'{key}: {np.mean(value)}')"
   ]
  },
  {
   "cell_type": "code",
   "execution_count": 385,
   "metadata": {},
   "outputs": [
    {
     "name": "stdout",
     "output_type": "stream",
     "text": [
      " data is of shape (100, 8)\n",
      "\n",
      "\n",
      "Coefficient Utilization\n",
      "default: 43\n",
      "(0, 0): 1\n",
      "(1, 0): 7\n",
      "(2, 0): 2\n",
      "(0, 1): 7\n",
      "(0, 2): 1\n",
      "(0, 3): 2\n",
      "(2, 3): 6\n",
      "(1, 4): 4\n",
      "(1, 3): 27\n",
      "Correlation matrix\n",
      "          0         1         2         3         4         5         6  \\\n",
      "0  1.000000  0.111596  0.675392  0.098353  0.164418  0.653901  0.406823   \n",
      "1  0.111596  1.000000  0.045759 -0.012270  0.093794 -0.025221 -0.156602   \n",
      "2  0.675392  0.045759  1.000000  0.078853  0.212708  0.362923  0.239435   \n",
      "3  0.098353 -0.012270  0.078853  1.000000  0.824297  0.067047  0.084725   \n",
      "4  0.164418  0.093794  0.212708  0.824297  1.000000  0.157981  0.112422   \n",
      "5  0.653901 -0.025221  0.362923  0.067047  0.157981  1.000000  0.704991   \n",
      "6  0.406823 -0.156602  0.239435  0.084725  0.112422  0.704991  1.000000   \n",
      "7  0.043863  0.041283  0.127570  0.435123  0.502476  0.066491  0.029511   \n",
      "\n",
      "          7  \n",
      "0  0.043863  \n",
      "1  0.041283  \n",
      "2  0.127570  \n",
      "3  0.435123  \n",
      "4  0.502476  \n",
      "5  0.066491  \n",
      "6  0.029511  \n",
      "7  1.000000  \n",
      "\n",
      "\n",
      "\n",
      "\n",
      "Models and Test Errors\n",
      "LinearRegression(): [146.70900040457212]\n",
      "Ridge(): [146.57400534309565]\n",
      "Lasso(): [146.04755783654025]\n",
      "ElasticNet(): [143.8397587908942]\n",
      "RandomForestRegressor(max_features=None, n_estimators=1000): [107.80525822804546]\n",
      "RandomForestRegressor(max_features=None): [102.80498083960961]\n",
      "RandomForestRegressor(n_estimators=1000): [106.43904040517558]\n",
      "RandomForestRegressor(): [108.87309503407684]\n",
      "\n",
      "\n",
      "\n",
      "\n",
      "Cosine Sim errors for func weights\n",
      "LinearRegression(): [[0.51419328]]\n",
      "Ridge(): [[0.51468144]]\n",
      "Lasso(): [[0.51403939]]\n",
      "ElasticNet(): [[0.52181402]]\n",
      "RandomForestRegressor(max_features=None, n_estimators=1000): [[-0.18175922]]\n",
      "RandomForestRegressor(max_features=None): [[-0.11601305]]\n",
      "RandomForestRegressor(n_estimators=1000): [[-0.17285871]]\n",
      "RandomForestRegressor(): [[-0.22072066]]\n"
     ]
    }
   ],
   "source": [
    "size=100\n",
    "verbose=True\n",
    "\n",
    "a = np.random.exponential(scale = 3, size=size)\n",
    "b = np.random.exponential(scale = 6, size=size)\n",
    "c = np.clip(a+np.random.normal(0,4,size), 0, a_max=np.inf)\n",
    "d = np.random.normal(0,10,size)\n",
    "e = d+np.random.normal(0,10,size)\n",
    "f = np.clip(a+np.random.normal(0,4,size), 0, a_max=np.inf)\n",
    "g = np.clip(f+np.random.normal(0,4,size), 0, a_max=np.inf)\n",
    "data = pd.DataFrame({'a':a,'b':b,'c':c,'d':d,'e':e,'f':f,'g':g}).to_numpy()\n",
    "\n",
    "func_coeffs = [\n",
    "    (4,0),\n",
    "    (0,0),\n",
    "    (-1,0),\n",
    "    (4,0),\n",
    "    (0,0),\n",
    "]\n",
    "\n",
    "models = [\n",
    "        lin(),\n",
    "        Ridge(),\n",
    "        Lasso(),\n",
    "        en(),\n",
    "        rf(n_estimators=1000, max_features=None),\n",
    "        rf(max_features=None),\n",
    "        rf(n_estimators=1000),\n",
    "        rf()\n",
    "        # gb(),\n",
    "        # et(),\n",
    "        # dt()\n",
    "    ]\n",
    "\n",
    "default_coefs = [-1,-10,3,4,5,0,0]\n",
    "\n",
    "#get coefficients in proper format\n",
    "coeffs = generate_function_coefficients(func_coeffs, n=1)\n",
    "\n",
    "#generate noise\n",
    "noise=np.random.normal(0,4, size=size)\n",
    "\n",
    "#generate function output\n",
    "#y = (generate_func_output(coeffs, data, 0)+noise).reshape(-1,1)\n",
    "y, util_dict = piecewise(data, funcs_dict, critical_vars, default_coefs)\n",
    "y=y+noise\n",
    "y=y.reshape(-1,1)\n",
    "\n",
    "data = np.concatenate((data,y), axis=1)\n",
    "\n",
    "if verbose:\n",
    "    print(f' data is of shape {data.shape}')\n",
    "    print('\\n')\n",
    "\n",
    "    print('Coefficient Utilization')\n",
    "    for key, value in util_dict.items():\n",
    "\n",
    "        print(f'{key}: {value}')\n",
    "\n",
    "\n",
    "train=data[:int(size/2)]\n",
    "test=data[int(size/2):]\n",
    "\n",
    "\n",
    "#print corr matrix of variables\n",
    "if verbose:\n",
    "    print('Correlation matrix')\n",
    "    print(pd.DataFrame(data).corr())\n",
    "    print('\\n')\n",
    "    print('\\n')\n",
    "\n",
    "#train models and report TEST RMSE\n",
    "res = bake_off_func_output(train,test,models,[rmse])\n",
    "\n",
    "if verbose: \n",
    "    print('Models and Test Errors')\n",
    "\n",
    "    for key, value in res.items():\n",
    "\n",
    "        print(f'{key}: {value}')\n",
    "\n",
    "    print('\\n')\n",
    "    print('\\n')\n",
    "\n",
    "\n",
    "#gather the trained on coefficients for now\n",
    "observed_coef = weighted_coefs_from_util(funcs_dict, util_dict,default_coefs)\n",
    "\n",
    "#grab all coefficient estimates\n",
    "feature_means = np.mean(train[:,:-1], axis=0)\n",
    "estimates = get_coef_estimates(models, train, feature_means )\n",
    "\n",
    "ranks_by_coef_error = rank_by_coef_error(estimates, observed_coef)\n",
    "\n",
    "if verbose: print('Cosine Sim errors for func weights')\n",
    "\n",
    "for key, value in ranks_by_coef_error.items():\n",
    "\n",
    "    if verbose: print(f'{key}: {value}')"
   ]
  },
  {
   "cell_type": "code",
   "execution_count": 384,
   "metadata": {},
   "outputs": [
    {
     "data": {
      "text/plain": [
       "{LinearRegression(): array([-13.5635079 ,   0.81396731,   3.16846107,   4.35774837,\n",
       "          3.74874763,  -1.75313207,   6.17989678]),\n",
       " Ridge(): array([-13.42859232,   0.80773629,   3.10194182,   4.3509204 ,\n",
       "          3.75337845,  -1.74545741,   6.1514181 ]),\n",
       " Lasso(): array([-12.95488096,   0.73980043,   2.67166559,   4.33377087,\n",
       "          3.7598681 ,  -1.37429228,   5.88860142]),\n",
       " ElasticNet(): array([-10.64469519,   0.65893165,   1.68164375,   4.2076762 ,\n",
       "          3.84254661,  -1.39872351,   5.44682607]),\n",
       " RandomForestRegressor(max_features=None, n_estimators=1000): array([  5.82659678,  15.24533603,   1.77325261,  -7.66889833,\n",
       "          3.09664859, -16.78453457,  -0.60022802]),\n",
       " RandomForestRegressor(max_features=None): array([  6.72017138,  14.69726562,   1.44936468, -12.64977264,\n",
       "          2.63806733, -15.97540563,   2.04529333]),\n",
       " RandomForestRegressor(n_estimators=1000): array([  7.345778  ,  15.00337558,   2.80281517,  -6.69556578,\n",
       "          3.17955892, -17.72066521,   2.17717109]),\n",
       " RandomForestRegressor(): array([ 12.15390356,  15.5213488 ,   2.99774374,  -7.99280518,\n",
       "          3.36958876, -20.00955831,  -0.66585311])}"
      ]
     },
     "execution_count": 384,
     "metadata": {},
     "output_type": "execute_result"
    }
   ],
   "source": [
    "estimates"
   ]
  },
  {
   "cell_type": "code",
   "execution_count": 386,
   "metadata": {},
   "outputs": [
    {
     "data": {
      "text/plain": [
       "array([-0.03,  1.26,  7.37,  1.6 ,  3.77,  0.  ,  0.5 ])"
      ]
     },
     "execution_count": 386,
     "metadata": {},
     "output_type": "execute_result"
    }
   ],
   "source": [
    "observed_coef"
   ]
  },
  {
   "cell_type": "code",
   "execution_count": 390,
   "metadata": {},
   "outputs": [
    {
     "data": {
      "text/plain": [
       "1.5"
      ]
     },
     "execution_count": 390,
     "metadata": {},
     "output_type": "execute_result"
    }
   ],
   "source": [
    "np.nanmean(np.array([np.nan, 1,2]))"
   ]
  },
  {
   "cell_type": "code",
   "execution_count": 254,
   "metadata": {},
   "outputs": [
    {
     "data": {
      "image/png": "[encoded data removed]",
      "text/plain": [
       "<Figure size 640x480 with 1 Axes>"
      ]
     },
     "metadata": {},
     "output_type": "display_data"
    }
   ],
   "source": [
    "#strategies to try next (what is the local mean of feature)\n",
    "#sub gloabl mean value for each feature and run preds"
   ]
  },
  {
   "cell_type": "code",
   "execution_count": 409,
   "metadata": {},
   "outputs": [
    {
     "data": {
      "text/plain": [
       "array([[0.64285714]])"
      ]
     },
     "execution_count": 409,
     "metadata": {},
     "output_type": "execute_result"
    }
   ],
   "source": [
    "mod.coef_"
   ]
  },
  {
   "cell_type": "code",
   "execution_count": 420,
   "metadata": {},
   "outputs": [
    {
     "name": "stdout",
     "output_type": "stream",
     "text": [
      "0.015175113510649854\n",
      "2.6602528906905984\n"
     ]
    },
    {
     "data": {
      "image/png": "[encoded data removed]",
      "text/plain": [
       "<Figure size 640x480 with 1 Axes>"
      ]
     },
     "metadata": {},
     "output_type": "display_data"
    }
   ],
   "source": [
    "m = 2#mod.coef_[0]\n",
    "res_ = list()\n",
    "\n",
    "for _ in range(1000):\n",
    "    n=10\n",
    "\n",
    "    x = np.random.normal(0,10,size=n)\n",
    "    x2 = x+ np.random.normal(6,2,size=n)\n",
    "\n",
    "    mean = 0\n",
    "    for i in range(n):\n",
    "\n",
    "        mean+= m*x2[i] \n",
    "\n",
    "    mean=mean/n\n",
    "\n",
    "    res=0\n",
    "    for i in range(n):\n",
    "\n",
    "        y=m*x2[i]+np.random.normal(0,2)\n",
    "\n",
    "        if i!=np.mean(x):\n",
    "            res+=((y-2*x2[i])/(x[i]-x2[i]))/n\n",
    "            \n",
    "    res_.append(res-0)\n",
    "\n",
    "plt.hist(res_)\n",
    "\n",
    "print(np.median(res_))\n",
    "print(np.std(res_))\n",
    "\n"
   ]
  },
  {
   "cell_type": "code",
   "execution_count": 392,
   "metadata": {},
   "outputs": [
    {
     "name": "stdout",
     "output_type": "stream",
     "text": [
      "[[-18.47810026  -1.86502508  10.84982534   2.0127673    4.45834194\n",
      "   -4.40021779   3.4344017 ]]\n",
      "[[-0.03  1.26  7.37  1.6   3.77  0.    0.5 ]]\n",
      "[[0.51419328]]\n",
      "[[-18.27726868  -1.87236067  10.7392478    1.99369214   4.47071529\n",
      "   -4.4412127    3.42096406]]\n",
      "[[-0.03  1.26  7.37  1.6   3.77  0.    0.5 ]]\n",
      "[[0.51468144]]\n",
      "[[-17.98922376  -1.87769419  10.48915377   1.95471514   4.48916086\n",
      "   -4.25680378   3.25969448]]\n",
      "[[-0.03  1.26  7.37  1.6   3.77  0.    0.5 ]]\n",
      "[[0.51403939]]\n",
      "[[-14.4194489   -2.00973752   8.51484369   1.63238758   4.69791798\n",
      "   -4.93652988   3.00015284]]\n",
      "[[-0.03  1.26  7.37  1.6   3.77  0.    0.5 ]]\n",
      "[[0.52181402]]\n",
      "[[-19.25168231 -32.63998274   5.95273629  -0.53573721 -19.30788771\n",
      "   17.29946705  -3.49444722]]\n",
      "[[-0.03  1.26  7.37  1.6   3.77  0.    0.5 ]]\n",
      "[[-0.18175922]]\n",
      "[[-24.4365367  -45.47780769   5.33582727  -0.31328042  -9.49358576\n",
      "   19.79678792  -5.04068401]]\n",
      "[[-0.03  1.26  7.37  1.6   3.77  0.    0.5 ]]\n",
      "[[-0.11601305]]\n",
      "[[-16.99859501 -37.26719568   6.17709693  -0.76784155 -17.64366054\n",
      "   15.44186157  -3.62167194]]\n",
      "[[-0.03  1.26  7.37  1.6   3.77  0.    0.5 ]]\n",
      "[[-0.17285871]]\n",
      "[[-19.6916053  -31.46501651   6.61631874  -0.7157685  -25.17569953\n",
      "   11.4874548   -4.41509177]]\n",
      "[[-0.03  1.26  7.37  1.6   3.77  0.    0.5 ]]\n",
      "[[-0.22072066]]\n"
     ]
    }
   ],
   "source": [
    "for key,value in estimates.items():\n",
    "    print(value.reshape(1,-1))\n",
    "    print(observed_coef.reshape(1,-1))\n",
    "    print(cosine_similarity(value.reshape(1,-1),observed_coef.reshape(1,-1)))"
   ]
  },
  {
   "cell_type": "code",
   "execution_count": 148,
   "metadata": {},
   "outputs": [],
   "source": [
    "#todo: calcualte average params from util dict and create function to calculate distance from esimtated params by model\n",
    "\n",
    "\n",
    "\n",
    "\n",
    "\n",
    "\n",
    "\n"
   ]
  },
  {
   "cell_type": "code",
   "execution_count": 363,
   "metadata": {},
   "outputs": [],
   "source": []
  },
  {
   "cell_type": "code",
   "execution_count": 177,
   "metadata": {},
   "outputs": [],
   "source": [
    "# import matplotlib.pyplot as plt\n",
    "# from sklearn.tree import plot_tree\n",
    "# plt.figure(figsize=(10,15))\n",
    "# a = plot_tree(models[-1])\n",
    "\n",
    "    "
   ]
  },
  {
   "cell_type": "code",
   "execution_count": 26,
   "metadata": {},
   "outputs": [
    {
     "name": "stdout",
     "output_type": "stream",
     "text": [
      "0.63354\n",
      "0.4527642853244556\n"
     ]
    }
   ],
   "source": [
    "import numpy as np\n",
    "l1 = [1,1,0]\n",
    "l2 = [1,1,1,0,0]\n",
    "\n",
    "tot = 0\n",
    "l1_ = 0\n",
    "seen = 0\n",
    "for i in range(100000):\n",
    "\n",
    "    lit = np.random.choice([0,1])\n",
    "\n",
    "    if lit==0:\n",
    "        pup = np.random.choice(l1)\n",
    "        tot += pup\n",
    "\n",
    "        if pup==0:\n",
    "            l1_+=1\n",
    "            seen+=1\n",
    "\n",
    "    else:\n",
    "        pup = np.random.choice(l2)\n",
    "        tot+=pup\n",
    "\n",
    "        if pup==0:\n",
    "            seen+=1\n",
    "\n",
    "print(tot/100000)\n",
    "print(l1_/seen)\n"
   ]
  },
  {
   "cell_type": "code",
   "execution_count": 401,
   "metadata": {},
   "outputs": [
    {
     "data": {
      "text/plain": [
       "['__class__',\n",
       " '__delattr__',\n",
       " '__dir__',\n",
       " '__doc__',\n",
       " '__eq__',\n",
       " '__format__',\n",
       " '__ge__',\n",
       " '__getattribute__',\n",
       " '__getstate__',\n",
       " '__gt__',\n",
       " '__hash__',\n",
       " '__init__',\n",
       " '__init_subclass__',\n",
       " '__le__',\n",
       " '__lt__',\n",
       " '__ne__',\n",
       " '__new__',\n",
       " '__pyx_vtable__',\n",
       " '__reduce__',\n",
       " '__reduce_ex__',\n",
       " '__repr__',\n",
       " '__setattr__',\n",
       " '__setstate__',\n",
       " '__sizeof__',\n",
       " '__str__',\n",
       " '__subclasshook__',\n",
       " 'apply',\n",
       " 'capacity',\n",
       " 'children_left',\n",
       " 'children_right',\n",
       " 'compute_feature_importances',\n",
       " 'compute_node_depths',\n",
       " 'compute_partial_dependence',\n",
       " 'decision_path',\n",
       " 'feature',\n",
       " 'impurity',\n",
       " 'max_depth',\n",
       " 'max_n_classes',\n",
       " 'missing_go_to_left',\n",
       " 'n_classes',\n",
       " 'n_features',\n",
       " 'n_leaves',\n",
       " 'n_node_samples',\n",
       " 'n_outputs',\n",
       " 'node_count',\n",
       " 'predict',\n",
       " 'threshold',\n",
       " 'value',\n",
       " 'weighted_n_node_samples']"
      ]
     },
     "execution_count": 401,
     "metadata": {},
     "output_type": "execute_result"
    }
   ],
   "source": [
    "dir(models[-1].estimators_[0].tree_)"
   ]
  },
  {
   "cell_type": "code",
   "execution_count": 27,
   "metadata": {},
   "outputs": [
    {
     "name": "stdout",
     "output_type": "stream",
     "text": [
      "0.0\n"
     ]
    }
   ],
   "source": [
    "g100=0\n",
    "for _ in range(10000):\n",
    "\n",
    "    unc=0\n",
    "    for i in range(2000):\n",
    "\n",
    "        a=np.random.choice([0,1], p=[0.01,0.99])\n",
    "\n",
    "        if a==0:\n",
    "            unc+=1\n",
    "    if unc>99:\n",
    "        g100+=1\n",
    "\n",
    "print(g100/10000)"
   ]
  },
  {
   "cell_type": "code",
   "execution_count": 421,
   "metadata": {},
   "outputs": [
    {
     "name": "stdout",
     "output_type": "stream",
     "text": [
      "4908\n"
     ]
    }
   ],
   "source": [
    "\n",
    "sigs=0\n",
    "for i in range(100000):\n",
    "\n",
    "    for j in range(5):\n",
    "\n",
    "        sig = np.random.choice([0,1],p=[0.99,0.01])\n",
    "\n",
    "        if sig==1:\n",
    "            sigs+=1\n",
    "            break\n",
    "print(sigs)"
   ]
  },
  {
   "cell_type": "code",
   "execution_count": null,
   "metadata": {},
   "outputs": [],
   "source": []
  }
 ],
 "metadata": {
  "kernelspec": {
   "display_name": "base",
   "language": "python",
   "name": "python3"
  },
  "language_info": {
   "codemirror_mode": {
    "name": "ipython",
    "version": 3
   },
   "file_extension": ".py",
   "mimetype": "text/x-python",
   "name": "python",
   "nbconvert_exporter": "python",
   "pygments_lexer": "ipython3",
   "version": "3.11.4"
  },
  "orig_nbformat": 4
 },
 "nbformat": 4,
 "nbformat_minor": 2
}
