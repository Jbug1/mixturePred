{
 "cells": [
  {
   "cell_type": "code",
   "execution_count": 58,
   "metadata": {},
   "outputs": [],
   "source": [
    "import numpy as np\n",
    "from scipy.stats import multivariate_normal as mvn\n",
    "from sklearn.linear_model import LinearRegression as lin \n",
    "from sklearn.linear_model import Ridge\n",
    "from sklearn.linear_model import Lasso\n",
    "from sklearn.linear_model import ElasticNet as en \n",
    "from sklearn.ensemble import RandomForestRegressor as rf\n",
    "from sklearn.ensemble import GradientBoostingRegressor as gb\n",
    "from sklearn.ensemble import ExtraTreesRegressor as et\n",
    "from sklearn.ensemble import HistGradientBoostingRegressor as hist\n",
    "import matplotlib.pyplot as plt\n",
    "from sklearn.tree import DecisionTreeRegressor as dt\n",
    "import pandas as pd\n",
    "from bisect import bisect_left as bi\n",
    "import warnings\n",
    "warnings.simplefilter(\"ignore\")"
   ]
  },
  {
   "cell_type": "code",
   "execution_count": 172,
   "metadata": {},
   "outputs": [],
   "source": [
    "def generate_function_coefficients(func_specs,n=1):\n",
    "    \"\"\"\n",
    "\n",
    "    sample function coeffieients from normal distribution\n",
    "    \"\"\"\n",
    "\n",
    "    coeffs=np.zeros((n,len(func_specs)))\n",
    "    for _ in range(n):\n",
    "        for i in range(len(func_specs)):\n",
    "\n",
    "            coeffs[_,i] = np.random.normal(loc=func_specs[i][0],scale=func_specs[i][1])\n",
    "            \n",
    "    return coeffs\n",
    "\n",
    "def generate_func_output(func_coeffs, data, intercept):\n",
    "\n",
    "    wo_noise = np.zeros(len(data))\n",
    "    for i in range(len(data)):\n",
    "\n",
    "        coeffs = func_coeffs[i%len(func_coeffs)]\n",
    "        wo_noise[i]= (data[i]@coeffs) + intercept\n",
    "\n",
    "    return wo_noise\n",
    "\n",
    "\n",
    "def generate_correlated_samples(means,n,cov_mat):\n",
    "\n",
    "    return mvn.rvs(mean = means, cov = cov_mat, size = n)\n",
    "\n",
    "\n",
    "def bake_off_func_output(train, test, models, error_funcs):\n",
    "\n",
    "    res = dict()\n",
    "\n",
    "    for i in models:\n",
    "\n",
    "        out=list()\n",
    "        i.fit(train[:,:-1],train[:,-1])\n",
    "\n",
    "        for j in error_funcs:\n",
    "                  \n",
    "            out.append(j(i.predict(test[:,:-1]).squeeze(), test[:,-1].squeeze()))\n",
    "        \n",
    "        res[str(i)]=out\n",
    "        \n",
    "    return res\n",
    "\n",
    "def rmse(pred, true):\n",
    "\n",
    "    return np.sqrt(sum((true-pred)**2)/len(pred))\n",
    "\n",
    "\n"
   ]
  },
  {
   "cell_type": "code",
   "execution_count": 236,
   "metadata": {},
   "outputs": [],
   "source": [
    "\n",
    "def piecewise(input, funcs_dict, critical_vars, default_coeffs=None):\n",
    "    \"\"\"\n",
    "    len of coeffs must be equal to total entries in critical points +1 for each critical var\n",
    "    coeffs(funciton coefficients )\n",
    "    critical_points- key=critical_var, val= array\n",
    "\n",
    "    \"\"\"\n",
    "\n",
    "    keys = list(critical_vars.keys())\n",
    "\n",
    "    #create dictionary to track how often each piece is used\n",
    "    utilization_dict= dict()\n",
    "    utilization_dict['default']=0\n",
    "    for i in funcs_dict.keys():\n",
    "        utilization_dict[i]=0\n",
    "    \n",
    "    y=np.zeros(len(input))\n",
    "    for x in range(len(input)):\n",
    "\n",
    "        key=np.zeros(len(keys))\n",
    "        for i in range(len(key)):\n",
    "\n",
    "            #get the bucket for this x array by critical variable\n",
    "            pos = bi(critical_vars[keys[i]], input[x,i])\n",
    "            key[i]=pos\n",
    "\n",
    "        #get the proper coefficients for this input array\n",
    "        key=tuple(key)\n",
    "        if key in funcs_dict.keys():\n",
    "\n",
    "            utilization_dict[key]+=1\n",
    "            y[x]= input[x]@funcs_dict[key]\n",
    "        else:\n",
    "            utilization_dict['default']+=1\n",
    "            y[x]= input[x]@ default_coeffs\n",
    "\n",
    "    return y, utilization_dict\n",
    "\n",
    "critical_vars = {0:[0.5,4], 1:[0.5,3,4,20]}\n",
    "funcs_dict= {(0,0):[1,7,-13,4,50,0,0],(1,0):[3,4,3,0,3,0,0],(2,0):[3,10,3,-8,0,0,4],(0,1):[5,-3,3,0,-5,0,0],(0,2):[12,14,3,0,-4,0,-6],(0,3):[1,4,34,0,-4,0,6],(2,3):[-1,-4,34,0,-4,0,6],(1,4):[-1,-4,34,0,0,0,0],(1,3):[-1,20,6,0,6,0,0]}\n",
    "\n",
    "\n",
    "#piecewise(data[:,:-1], funcs_dict, critical_vars, default_coeffs=[-1,-10,3,2,0])\n",
    "\n"
   ]
  },
  {
   "cell_type": "code",
   "execution_count": 237,
   "metadata": {},
   "outputs": [
    {
     "name": "stdout",
     "output_type": "stream",
     "text": [
      "2576\n"
     ]
    }
   ],
   "source": [
    "a=np.random.exponential(scale=3, size=10000)\n",
    "\n",
    "cont=0\n",
    "for i in a:\n",
    "    if i>4:\n",
    "        cont+=1\n",
    "\n",
    "print(cont)"
   ]
  },
  {
   "cell_type": "code",
   "execution_count": 239,
   "metadata": {},
   "outputs": [
    {
     "name": "stdout",
     "output_type": "stream",
     "text": [
      " data is of shape (1000, 8)\n",
      "\n",
      "\n",
      "Coefficient Utilization\n",
      "default: 348\n",
      "(0, 0): 15\n",
      "(1, 0): 44\n",
      "(2, 0): 19\n",
      "(0, 1): 50\n",
      "(0, 2): 10\n",
      "(0, 3): 65\n",
      "(2, 3): 144\n",
      "(1, 4): 24\n",
      "(1, 3): 281\n",
      "Correlation matrix\n",
      "          0         1         2         3         4         5         6  \\\n",
      "0  1.000000  0.021436  0.625575 -0.005005 -0.004667  0.651102  0.468656   \n",
      "1  0.021436  1.000000  0.022226  0.015830  0.044423  0.022713  0.042798   \n",
      "2  0.625575  0.022226  1.000000 -0.000302 -0.029315  0.426095  0.314930   \n",
      "3 -0.005005  0.015830 -0.000302  1.000000  0.694082  0.039439  0.044987   \n",
      "4 -0.004667  0.044423 -0.029315  0.694082  1.000000  0.035260  0.036360   \n",
      "5  0.651102  0.022713  0.426095  0.039439  0.035260  1.000000  0.732706   \n",
      "6  0.468656  0.042798  0.314930  0.044987  0.036360  0.732706  1.000000   \n",
      "7  0.190695  0.293170  0.291515  0.207165  0.285239  0.179373  0.167490   \n",
      "\n",
      "          7  \n",
      "0  0.190695  \n",
      "1  0.293170  \n",
      "2  0.291515  \n",
      "3  0.207165  \n",
      "4  0.285239  \n",
      "5  0.179373  \n",
      "6  0.167490  \n",
      "7  1.000000  \n",
      "\n",
      "\n",
      "\n",
      "\n",
      "Models and Test Errors\n",
      "LinearRegression(): [162.58465039812057]\n",
      "Ridge(): [162.58351056569413]\n",
      "Lasso(): [162.48861328792248]\n",
      "ElasticNet(): [162.27377893529678]\n",
      "RandomForestRegressor(): [101.41559454901528]\n",
      "GradientBoostingRegressor(): [117.04508579012831]\n",
      "ExtraTreesRegressor(): [112.97136172962624]\n",
      "DecisionTreeRegressor(): [143.6189925884445]\n",
      "\n",
      "\n",
      "\n",
      "\n"
     ]
    },
    {
     "ename": "TypeError",
     "evalue": "'ExtraTreeRegressor' object is not subscriptable",
     "output_type": "error",
     "traceback": [
      "\u001b[0;31m---------------------------------------------------------------------------\u001b[0m",
      "\u001b[0;31mKeyboardInterrupt\u001b[0m                         Traceback (most recent call last)",
      "\u001b[1;32m/Users/jonahpoczobutt/projects/mixturePred/coeff_recovery.ipynb Cell 5\u001b[0m line \u001b[0;36m3\n\u001b[1;32m     <a href='vscode-notebook-cell:/Users/jonahpoczobutt/projects/mixturePred/coeff_recovery.ipynb#W3sZmlsZQ%3D%3D?line=36'>37</a>\u001b[0m     pred_val \u001b[39m=\u001b[39m mod\u001b[39m.\u001b[39mestimators_[j]\u001b[39m.\u001b[39mpredict([x])\n\u001b[0;32m---> <a href='vscode-notebook-cell:/Users/jonahpoczobutt/projects/mixturePred/coeff_recovery.ipynb#W3sZmlsZQ%3D%3D?line=37'>38</a>\u001b[0m     ests[j,i] \u001b[39m=\u001b[39m coef_impact_estimate(x, mod\u001b[39m.\u001b[39mestimators_[j]\u001b[39m.\u001b[39mtree_, feature \u001b[39m=\u001b[39mi, pred_val\u001b[39m=\u001b[39mpred_val)\n\u001b[1;32m     <a href='vscode-notebook-cell:/Users/jonahpoczobutt/projects/mixturePred/coeff_recovery.ipynb#W3sZmlsZQ%3D%3D?line=38'>39</a>\u001b[0m \u001b[39mexcept\u001b[39;00m:\n",
      "\u001b[1;32m/Users/jonahpoczobutt/projects/mixturePred/coeff_recovery.ipynb Cell 5\u001b[0m line \u001b[0;36m8\n\u001b[1;32m      <a href='vscode-notebook-cell:/Users/jonahpoczobutt/projects/mixturePred/coeff_recovery.ipynb#W3sZmlsZQ%3D%3D?line=6'>7</a>\u001b[0m \u001b[39m#get masked_prediction\u001b[39;00m\n\u001b[0;32m----> <a href='vscode-notebook-cell:/Users/jonahpoczobutt/projects/mixturePred/coeff_recovery.ipynb#W3sZmlsZQ%3D%3D?line=7'>8</a>\u001b[0m masked_pred_val \u001b[39m=\u001b[39m traverse_to_node(x, tree, feature)[\u001b[39m0\u001b[39m]\n\u001b[1;32m     <a href='vscode-notebook-cell:/Users/jonahpoczobutt/projects/mixturePred/coeff_recovery.ipynb#W3sZmlsZQ%3D%3D?line=9'>10</a>\u001b[0m \u001b[39mreturn\u001b[39;00m (pred_val \u001b[39m-\u001b[39m masked_pred_val) \u001b[39m/\u001b[39m x[feature]\n",
      "\u001b[1;32m/Users/jonahpoczobutt/projects/mixturePred/coeff_recovery.ipynb Cell 5\u001b[0m line \u001b[0;36m1\n\u001b[1;32m     <a href='vscode-notebook-cell:/Users/jonahpoczobutt/projects/mixturePred/coeff_recovery.ipynb#W3sZmlsZQ%3D%3D?line=16'>17</a>\u001b[0m \u001b[39mif\u001b[39;00m x[tree\u001b[39m.\u001b[39mfeature[i]] \u001b[39m<\u001b[39m\u001b[39m=\u001b[39m tree\u001b[39m.\u001b[39mthreshold[i]:\n\u001b[0;32m---> <a href='vscode-notebook-cell:/Users/jonahpoczobutt/projects/mixturePred/coeff_recovery.ipynb#W3sZmlsZQ%3D%3D?line=18'>19</a>\u001b[0m      \u001b[39mreturn\u001b[39;00m traverse_to_node(x, tree, feature, i \u001b[39m=\u001b[39m tree\u001b[39m.\u001b[39mchildren_left[i], prop \u001b[39m=\u001b[39m prop)\n\u001b[1;32m     <a href='vscode-notebook-cell:/Users/jonahpoczobutt/projects/mixturePred/coeff_recovery.ipynb#W3sZmlsZQ%3D%3D?line=19'>20</a>\u001b[0m \u001b[39melse\u001b[39;00m:\n",
      "\u001b[1;32m/Users/jonahpoczobutt/projects/mixturePred/coeff_recovery.ipynb Cell 5\u001b[0m line \u001b[0;36m1\n\u001b[1;32m     <a href='vscode-notebook-cell:/Users/jonahpoczobutt/projects/mixturePred/coeff_recovery.ipynb#W3sZmlsZQ%3D%3D?line=16'>17</a>\u001b[0m \u001b[39mif\u001b[39;00m x[tree\u001b[39m.\u001b[39mfeature[i]] \u001b[39m<\u001b[39m\u001b[39m=\u001b[39m tree\u001b[39m.\u001b[39mthreshold[i]:\n\u001b[0;32m---> <a href='vscode-notebook-cell:/Users/jonahpoczobutt/projects/mixturePred/coeff_recovery.ipynb#W3sZmlsZQ%3D%3D?line=18'>19</a>\u001b[0m      \u001b[39mreturn\u001b[39;00m traverse_to_node(x, tree, feature, i \u001b[39m=\u001b[39m tree\u001b[39m.\u001b[39mchildren_left[i], prop \u001b[39m=\u001b[39m prop)\n\u001b[1;32m     <a href='vscode-notebook-cell:/Users/jonahpoczobutt/projects/mixturePred/coeff_recovery.ipynb#W3sZmlsZQ%3D%3D?line=19'>20</a>\u001b[0m \u001b[39melse\u001b[39;00m:\n",
      "\u001b[1;32m/Users/jonahpoczobutt/projects/mixturePred/coeff_recovery.ipynb Cell 5\u001b[0m line \u001b[0;36m2\n\u001b[1;32m     <a href='vscode-notebook-cell:/Users/jonahpoczobutt/projects/mixturePred/coeff_recovery.ipynb#W3sZmlsZQ%3D%3D?line=19'>20</a>\u001b[0m      \u001b[39melse\u001b[39;00m:\n\u001b[0;32m---> <a href='vscode-notebook-cell:/Users/jonahpoczobutt/projects/mixturePred/coeff_recovery.ipynb#W3sZmlsZQ%3D%3D?line=20'>21</a>\u001b[0m           \u001b[39mreturn\u001b[39;00m traverse_to_node(x, tree, feature, i \u001b[39m=\u001b[39m tree\u001b[39m.\u001b[39mchildren_right[i], prop \u001b[39m=\u001b[39m prop)\n\u001b[1;32m     <a href='vscode-notebook-cell:/Users/jonahpoczobutt/projects/mixturePred/coeff_recovery.ipynb#W3sZmlsZQ%3D%3D?line=22'>23</a>\u001b[0m \u001b[39m#otherwise we need to do proportional split without conditioning on the value of feature\u001b[39;00m\n\u001b[1;32m     <a href='vscode-notebook-cell:/Users/jonahpoczobutt/projects/mixturePred/coeff_recovery.ipynb#W3sZmlsZQ%3D%3D?line=23'>24</a>\u001b[0m \u001b[39melse\u001b[39;00m:\n\u001b[1;32m     <a href='vscode-notebook-cell:/Users/jonahpoczobutt/projects/mixturePred/coeff_recovery.ipynb#W3sZmlsZQ%3D%3D?line=24'>25</a>\u001b[0m     \n\u001b[1;32m     <a href='vscode-notebook-cell:/Users/jonahpoczobutt/projects/mixturePred/coeff_recovery.ipynb#W3sZmlsZQ%3D%3D?line=25'>26</a>\u001b[0m     \u001b[39m#aesthetic only\u001b[39;00m\n",
      "\u001b[1;32m/Users/jonahpoczobutt/projects/mixturePred/coeff_recovery.ipynb Cell 5\u001b[0m line \u001b[0;36m1\n\u001b[0;32m----> <a href='vscode-notebook-cell:/Users/jonahpoczobutt/projects/mixturePred/coeff_recovery.ipynb#W3sZmlsZQ%3D%3D?line=0'>1</a>\u001b[0m \u001b[39mdef\u001b[39;00m \u001b[39mtraverse_to_node\u001b[39m(x, tree, feature, i\u001b[39m=\u001b[39m\u001b[39m0\u001b[39m, prop\u001b[39m=\u001b[39m\u001b[39m1\u001b[39m):\n\u001b[1;32m      <a href='vscode-notebook-cell:/Users/jonahpoczobutt/projects/mixturePred/coeff_recovery.ipynb#W3sZmlsZQ%3D%3D?line=1'>2</a>\u001b[0m \u001b[39m        \u001b[39m\u001b[39m\"\"\" \u001b[39;00m\n\u001b[1;32m      <a href='vscode-notebook-cell:/Users/jonahpoczobutt/projects/mixturePred/coeff_recovery.ipynb#W3sZmlsZQ%3D%3D?line=2'>3</a>\u001b[0m \u001b[39m        tree: decision tree object\u001b[39;00m\n\u001b[1;32m      <a href='vscode-notebook-cell:/Users/jonahpoczobutt/projects/mixturePred/coeff_recovery.ipynb#W3sZmlsZQ%3D%3D?line=3'>4</a>\u001b[0m \u001b[39m        feature: feature that we are holding blank\u001b[39;00m\n\u001b[1;32m      <a href='vscode-notebook-cell:/Users/jonahpoczobutt/projects/mixturePred/coeff_recovery.ipynb#W3sZmlsZQ%3D%3D?line=4'>5</a>\u001b[0m \u001b[39m        i: index at which to begin in attribute arrays\u001b[39;00m\n\u001b[1;32m      <a href='vscode-notebook-cell:/Users/jonahpoczobutt/projects/mixturePred/coeff_recovery.ipynb#W3sZmlsZQ%3D%3D?line=5'>6</a>\u001b[0m \u001b[39m        prop: proportion of weight we are assigning to this prediction\u001b[39;00m\n\u001b[1;32m      <a href='vscode-notebook-cell:/Users/jonahpoczobutt/projects/mixturePred/coeff_recovery.ipynb#W3sZmlsZQ%3D%3D?line=6'>7</a>\u001b[0m \u001b[39m        \"\"\"\u001b[39;00m\n",
      "\u001b[0;31mKeyboardInterrupt\u001b[0m: ",
      "\nDuring handling of the above exception, another exception occurred:\n",
      "\u001b[0;31mTypeError\u001b[0m                                 Traceback (most recent call last)",
      "\u001b[1;32m/Users/jonahpoczobutt/projects/mixturePred/coeff_recovery.ipynb Cell 5\u001b[0m line \u001b[0;36m8\n\u001b[1;32m     <a href='vscode-notebook-cell:/Users/jonahpoczobutt/projects/mixturePred/coeff_recovery.ipynb#W3sZmlsZQ%3D%3D?line=76'>77</a>\u001b[0m observed_coef \u001b[39m=\u001b[39m weighted_coefs_from_util(funcs_dict, util_dict,default_coefs)\n\u001b[1;32m     <a href='vscode-notebook-cell:/Users/jonahpoczobutt/projects/mixturePred/coeff_recovery.ipynb#W3sZmlsZQ%3D%3D?line=78'>79</a>\u001b[0m \u001b[39m#grab all coefficient estimates\u001b[39;00m\n\u001b[0;32m---> <a href='vscode-notebook-cell:/Users/jonahpoczobutt/projects/mixturePred/coeff_recovery.ipynb#W3sZmlsZQ%3D%3D?line=79'>80</a>\u001b[0m estimates \u001b[39m=\u001b[39m get_coef_estimates(models, train)\n\u001b[1;32m     <a href='vscode-notebook-cell:/Users/jonahpoczobutt/projects/mixturePred/coeff_recovery.ipynb#W3sZmlsZQ%3D%3D?line=81'>82</a>\u001b[0m ranks_by_coef_error \u001b[39m=\u001b[39m rank_by_coef_error(estimates, observed_coef)\n\u001b[1;32m     <a href='vscode-notebook-cell:/Users/jonahpoczobutt/projects/mixturePred/coeff_recovery.ipynb#W3sZmlsZQ%3D%3D?line=83'>84</a>\u001b[0m \u001b[39mprint\u001b[39m(\u001b[39m'\u001b[39m\u001b[39mCosine Sim errors for func weights\u001b[39m\u001b[39m'\u001b[39m)\n",
      "\u001b[1;32m/Users/jonahpoczobutt/projects/mixturePred/coeff_recovery.ipynb Cell 5\u001b[0m line \u001b[0;36m9\n\u001b[1;32m      <a href='vscode-notebook-cell:/Users/jonahpoczobutt/projects/mixturePred/coeff_recovery.ipynb#W3sZmlsZQ%3D%3D?line=3'>4</a>\u001b[0m \u001b[39mfor\u001b[39;00m i \u001b[39min\u001b[39;00m models:\n\u001b[1;32m      <a href='vscode-notebook-cell:/Users/jonahpoczobutt/projects/mixturePred/coeff_recovery.ipynb#W3sZmlsZQ%3D%3D?line=4'>5</a>\u001b[0m \n\u001b[1;32m      <a href='vscode-notebook-cell:/Users/jonahpoczobutt/projects/mixturePred/coeff_recovery.ipynb#W3sZmlsZQ%3D%3D?line=5'>6</a>\u001b[0m     \u001b[39m#this is an ensemble model\u001b[39;00m\n\u001b[1;32m      <a href='vscode-notebook-cell:/Users/jonahpoczobutt/projects/mixturePred/coeff_recovery.ipynb#W3sZmlsZQ%3D%3D?line=6'>7</a>\u001b[0m     \u001b[39mif\u001b[39;00m \u001b[39mhasattr\u001b[39m(i, \u001b[39m'\u001b[39m\u001b[39mestimators_\u001b[39m\u001b[39m'\u001b[39m):\n\u001b[0;32m----> <a href='vscode-notebook-cell:/Users/jonahpoczobutt/projects/mixturePred/coeff_recovery.ipynb#W3sZmlsZQ%3D%3D?line=8'>9</a>\u001b[0m         est \u001b[39m=\u001b[39m estimate_all_coefs_for_dataset(train[:,:\u001b[39m-\u001b[39m\u001b[39m1\u001b[39m], i)\n\u001b[1;32m     <a href='vscode-notebook-cell:/Users/jonahpoczobutt/projects/mixturePred/coeff_recovery.ipynb#W3sZmlsZQ%3D%3D?line=9'>10</a>\u001b[0m         res[i]\u001b[39m=\u001b[39mnp\u001b[39m.\u001b[39mnanmean(est,axis\u001b[39m=\u001b[39m\u001b[39m0\u001b[39m)\n\u001b[1;32m     <a href='vscode-notebook-cell:/Users/jonahpoczobutt/projects/mixturePred/coeff_recovery.ipynb#W3sZmlsZQ%3D%3D?line=11'>12</a>\u001b[0m     \u001b[39m#this is a decision tree\u001b[39;00m\n",
      "\u001b[1;32m/Users/jonahpoczobutt/projects/mixturePred/coeff_recovery.ipynb Cell 5\u001b[0m line \u001b[0;36m5\n\u001b[1;32m     <a href='vscode-notebook-cell:/Users/jonahpoczobutt/projects/mixturePred/coeff_recovery.ipynb#W3sZmlsZQ%3D%3D?line=47'>48</a>\u001b[0m \u001b[39mfor\u001b[39;00m i \u001b[39min\u001b[39;00m \u001b[39mrange\u001b[39m(\u001b[39mlen\u001b[39m(x)):\n\u001b[1;32m     <a href='vscode-notebook-cell:/Users/jonahpoczobutt/projects/mixturePred/coeff_recovery.ipynb#W3sZmlsZQ%3D%3D?line=49'>50</a>\u001b[0m     \u001b[39mif\u001b[39;00m ensemble:\n\u001b[0;32m---> <a href='vscode-notebook-cell:/Users/jonahpoczobutt/projects/mixturePred/coeff_recovery.ipynb#W3sZmlsZQ%3D%3D?line=50'>51</a>\u001b[0m         res[i] \u001b[39m=\u001b[39m estimate_all_coefs_ensemble(x[i], mod)\n\u001b[1;32m     <a href='vscode-notebook-cell:/Users/jonahpoczobutt/projects/mixturePred/coeff_recovery.ipynb#W3sZmlsZQ%3D%3D?line=52'>53</a>\u001b[0m     \u001b[39melse\u001b[39;00m:\n\u001b[1;32m     <a href='vscode-notebook-cell:/Users/jonahpoczobutt/projects/mixturePred/coeff_recovery.ipynb#W3sZmlsZQ%3D%3D?line=53'>54</a>\u001b[0m         res[i] \u001b[39m=\u001b[39m estimate_all_coefs(x[i], mod\u001b[39m.\u001b[39mtree_)\n",
      "\u001b[1;32m/Users/jonahpoczobutt/projects/mixturePred/coeff_recovery.ipynb Cell 5\u001b[0m line \u001b[0;36m4\n\u001b[1;32m     <a href='vscode-notebook-cell:/Users/jonahpoczobutt/projects/mixturePred/coeff_recovery.ipynb#W3sZmlsZQ%3D%3D?line=37'>38</a>\u001b[0m             ests[j,i] \u001b[39m=\u001b[39m coef_impact_estimate(x, mod\u001b[39m.\u001b[39mestimators_[j]\u001b[39m.\u001b[39mtree_, feature \u001b[39m=\u001b[39mi, pred_val\u001b[39m=\u001b[39mpred_val)\n\u001b[1;32m     <a href='vscode-notebook-cell:/Users/jonahpoczobutt/projects/mixturePred/coeff_recovery.ipynb#W3sZmlsZQ%3D%3D?line=38'>39</a>\u001b[0m         \u001b[39mexcept\u001b[39;00m:\n\u001b[0;32m---> <a href='vscode-notebook-cell:/Users/jonahpoczobutt/projects/mixturePred/coeff_recovery.ipynb#W3sZmlsZQ%3D%3D?line=39'>40</a>\u001b[0m             pred_val \u001b[39m=\u001b[39m mod\u001b[39m.\u001b[39mestimators_[j][\u001b[39m0\u001b[39m]\u001b[39m.\u001b[39mpredict([x])\n\u001b[1;32m     <a href='vscode-notebook-cell:/Users/jonahpoczobutt/projects/mixturePred/coeff_recovery.ipynb#W3sZmlsZQ%3D%3D?line=40'>41</a>\u001b[0m             ests[j,i] \u001b[39m=\u001b[39m coef_impact_estimate(x, mod\u001b[39m.\u001b[39mestimators_[j][\u001b[39m0\u001b[39m]\u001b[39m.\u001b[39mtree_, feature \u001b[39m=\u001b[39mi, pred_val\u001b[39m=\u001b[39mpred_val)\n\u001b[1;32m     <a href='vscode-notebook-cell:/Users/jonahpoczobutt/projects/mixturePred/coeff_recovery.ipynb#W3sZmlsZQ%3D%3D?line=42'>43</a>\u001b[0m \u001b[39mreturn\u001b[39;00m np\u001b[39m.\u001b[39mnanmean(ests, axis\u001b[39m=\u001b[39m\u001b[39m0\u001b[39m)\n",
      "\u001b[0;31mTypeError\u001b[0m: 'ExtraTreeRegressor' object is not subscriptable"
     ]
    }
   ],
   "source": [
    "size=1000\n",
    "\n",
    "a = np.random.exponential(scale = 3, size=size)\n",
    "b = np.random.exponential(scale = 6, size=size)\n",
    "c = np.clip(a+np.random.normal(0,4,size), 0, a_max=np.inf)\n",
    "d = np.random.normal(0,10,size)\n",
    "e = d+np.random.normal(0,10,size)\n",
    "f = np.clip(a+np.random.normal(0,4,size), 0, a_max=np.inf)\n",
    "g = np.clip(f+np.random.normal(0,4,size), 0, a_max=np.inf)\n",
    "data = pd.DataFrame({'a':a,'b':b,'c':c,'d':d,'e':e,'f':f,'g':g}).to_numpy()\n",
    "\n",
    "func_coeffs = [\n",
    "    (4,0),\n",
    "    (0,0),\n",
    "    (-1,0),\n",
    "    (4,0),\n",
    "    (0,0),\n",
    "]\n",
    "\n",
    "default_coefs = [-1,-10,3,4,5,0,0]\n",
    "\n",
    "#get coefficients in proper format\n",
    "coeffs = generate_function_coefficients(func_coeffs, n=1)\n",
    "\n",
    "#generate noise\n",
    "noise=np.random.normal(0,4, size=size)\n",
    "\n",
    "#generate function output\n",
    "#y = (generate_func_output(coeffs, data, 0)+noise).reshape(-1,1)\n",
    "y, util_dict = piecewise(data, funcs_dict, critical_vars, default_coefs)\n",
    "y=y+noise\n",
    "y=y.reshape(-1,1)\n",
    "\n",
    "data = np.concatenate((data,y), axis=1)\n",
    "\n",
    "print(f' data is of shape {data.shape}')\n",
    "print('\\n')\n",
    "\n",
    "print('Coefficient Utilization')\n",
    "for key, value in util_dict.items():\n",
    "\n",
    "    print(f'{key}: {value}')\n",
    "\n",
    "\n",
    "train=data[:int(size/2)]\n",
    "test=data[int(size/2):]\n",
    "\n",
    "models = [\n",
    "    lin(),\n",
    "    Ridge(),\n",
    "    Lasso(),\n",
    "    en(),\n",
    "    rf(),\n",
    "    gb(),\n",
    "    et(),\n",
    "    dt()\n",
    "]\n",
    "#print corr matrix of variables\n",
    "print('Correlation matrix')\n",
    "print(pd.DataFrame(data).corr())\n",
    "print('\\n')\n",
    "print('\\n')\n",
    "\n",
    "#train models and report TEST RMSE\n",
    "res = bake_off_func_output(train,test,models,[rmse])\n",
    "print('Models and Test Errors')\n",
    "\n",
    "for key, value in res.items():\n",
    "\n",
    "    print(f'{key}: {value}')\n",
    "\n",
    "print('\\n')\n",
    "print('\\n')\n",
    "\n",
    "\n",
    "#gather the trained on coefficients for now\n",
    "observed_coef = weighted_coefs_from_util(funcs_dict, util_dict,default_coefs)\n",
    "\n",
    "#grab all coefficient estimates\n",
    "estimates = get_coef_estimates(models, train)\n",
    "\n",
    "ranks_by_coef_error = rank_by_coef_error(estimates, observed_coef)\n",
    "\n",
    "print('Cosine Sim errors for func weights')\n",
    "\n",
    "for key, value in ranks_by_coef_error.items():\n",
    "    print(f'{key}: {value}')"
   ]
  },
  {
   "cell_type": "code",
   "execution_count": 213,
   "metadata": {},
   "outputs": [
    {
     "data": {
      "text/plain": [
       "{LinearRegression(): array([-1.70257489e+00, -1.00252392e+01,  3.04034549e+00,  3.66026724e+00,\n",
       "         5.06866836e+00, -4.07246211e-03,  5.45713243e-01]),\n",
       " Ridge(): array([-1.69940967e+00, -1.00239388e+01,  3.03823998e+00,  3.66001817e+00,\n",
       "         5.06867822e+00, -4.82000203e-03,  5.45900506e-01]),\n",
       " Lasso(): array([-1.38947918, -9.98367314,  2.8639996 ,  3.63765632,  5.0725136 ,\n",
       "        -0.        ,  0.4653519 ]),\n",
       " ElasticNet(): array([-1.25612644, -9.84746096,  2.72956393,  3.6214223 ,  5.07088025,\n",
       "        -0.02012839,  0.50044597]),\n",
       " RandomForestRegressor(): array([ 2.03437133e+01,  2.32199132e+01, -2.32372197e+00, -2.46338136e+00,\n",
       "         1.46135861e+01, -2.79083775e+00,  5.16144975e-03]),\n",
       " GradientBoostingRegressor(): array([ 3.41467849,  2.67036119, -0.59192347,  0.11096912,  1.1630428 ,\n",
       "         0.0380318 , -0.00346341]),\n",
       " ExtraTreesRegressor(): array([-30.54438607,  24.46804388,  -5.90397965,  -1.20849629,\n",
       "         14.84503271,  -0.33284359,  -0.10890015]),\n",
       " DecisionTreeRegressor(): array([-4.09119450e+02,  2.64821698e+01, -1.02263358e+01,  1.08895021e+00,\n",
       "         2.25705229e+01, -8.44694978e-01, -3.78001348e-01])}"
      ]
     },
     "execution_count": 213,
     "metadata": {},
     "output_type": "execute_result"
    }
   ],
   "source": [
    "estimates"
   ]
  },
  {
   "cell_type": "code",
   "execution_count": 254,
   "metadata": {},
   "outputs": [
    {
     "data": {
      "image/png": "[encoded data removed]",
      "text/plain": [
       "<Figure size 640x480 with 1 Axes>"
      ]
     },
     "metadata": {},
     "output_type": "display_data"
    }
   ],
   "source": [
    "plt.scatter([0,1,3],[0,1,2])\n",
    "plt.plot(np.linspace(0,3,100), mod.predict(np.linspace(0,3,100).reshape(-1,1)))\n",
    "plt.show()"
   ]
  },
  {
   "cell_type": "code",
   "execution_count": 298,
   "metadata": {},
   "outputs": [
    {
     "name": "stdout",
     "output_type": "stream",
     "text": [
      "[0.64279221]\n",
      "[0.64285714]\n"
     ]
    }
   ],
   "source": [
    "m = mod.coef_[0]\n",
    "n=\n",
    "\n",
    "mean = 0\n",
    "for i in range(1,n):\n",
    "\n",
    "    mean+= m*i\n",
    "\n",
    "mean=mean/n\n",
    "\n",
    "res=0\n",
    "for i in range(n):\n",
    "\n",
    "    y=m*i\n",
    "\n",
    "    if i!=n/2:\n",
    "        res+=(y-mean)/(i - n/2)\n",
    "\n",
    "print(res/(n-1))\n",
    "\n",
    "print(m)\n",
    "\n"
   ]
  },
  {
   "cell_type": "code",
   "execution_count": 283,
   "metadata": {},
   "outputs": [
    {
     "data": {
      "text/plain": [
       "[1]"
      ]
     },
     "execution_count": 283,
     "metadata": {},
     "output_type": "execute_result"
    }
   ],
   "source": [
    "list(range(1,2))"
   ]
  },
  {
   "cell_type": "code",
   "execution_count": 295,
   "metadata": {},
   "outputs": [
    {
     "data": {
      "text/plain": [
       "0.65897556"
      ]
     },
     "execution_count": 295,
     "metadata": {},
     "output_type": "execute_result"
    }
   ],
   "source": [
    "(0.67678571+0.64116541)/2"
   ]
  },
  {
   "cell_type": "code",
   "execution_count": 258,
   "metadata": {},
   "outputs": [
    {
     "data": {
      "text/plain": [
       "0.45"
      ]
     },
     "execution_count": 258,
     "metadata": {},
     "output_type": "execute_result"
    }
   ],
   "source": [
    "(((-1)/(0-4/3)) + ((0)/(2-4/3)) +(1/(3-4/3)))/3"
   ]
  },
  {
   "cell_type": "code",
   "execution_count": 263,
   "metadata": {},
   "outputs": [
    {
     "data": {
      "text/html": [
       "<style>#sk-container-id-10 {color: black;}#sk-container-id-10 pre{padding: 0;}#sk-container-id-10 div.sk-toggleable {background-color: white;}#sk-container-id-10 label.sk-toggleable__label {cursor: pointer;display: block;width: 100%;margin-bottom: 0;padding: 0.3em;box-sizing: border-box;text-align: center;}#sk-container-id-10 label.sk-toggleable__label-arrow:before {content: \"▸\";float: left;margin-right: 0.25em;color: #696969;}#sk-container-id-10 label.sk-toggleable__label-arrow:hover:before {color: black;}#sk-container-id-10 div.sk-estimator:hover label.sk-toggleable__label-arrow:before {color: black;}#sk-container-id-10 div.sk-toggleable__content {max-height: 0;max-width: 0;overflow: hidden;text-align: left;background-color: #f0f8ff;}#sk-container-id-10 div.sk-toggleable__content pre {margin: 0.2em;color: black;border-radius: 0.25em;background-color: #f0f8ff;}#sk-container-id-10 input.sk-toggleable__control:checked~div.sk-toggleable__content {max-height: 200px;max-width: 100%;overflow: auto;}#sk-container-id-10 input.sk-toggleable__control:checked~label.sk-toggleable__label-arrow:before {content: \"▾\";}#sk-container-id-10 div.sk-estimator input.sk-toggleable__control:checked~label.sk-toggleable__label {background-color: #d4ebff;}#sk-container-id-10 div.sk-label input.sk-toggleable__control:checked~label.sk-toggleable__label {background-color: #d4ebff;}#sk-container-id-10 input.sk-hidden--visually {border: 0;clip: rect(1px 1px 1px 1px);clip: rect(1px, 1px, 1px, 1px);height: 1px;margin: -1px;overflow: hidden;padding: 0;position: absolute;width: 1px;}#sk-container-id-10 div.sk-estimator {font-family: monospace;background-color: #f0f8ff;border: 1px dotted black;border-radius: 0.25em;box-sizing: border-box;margin-bottom: 0.5em;}#sk-container-id-10 div.sk-estimator:hover {background-color: #d4ebff;}#sk-container-id-10 div.sk-parallel-item::after {content: \"\";width: 100%;border-bottom: 1px solid gray;flex-grow: 1;}#sk-container-id-10 div.sk-label:hover label.sk-toggleable__label {background-color: #d4ebff;}#sk-container-id-10 div.sk-serial::before {content: \"\";position: absolute;border-left: 1px solid gray;box-sizing: border-box;top: 0;bottom: 0;left: 50%;z-index: 0;}#sk-container-id-10 div.sk-serial {display: flex;flex-direction: column;align-items: center;background-color: white;padding-right: 0.2em;padding-left: 0.2em;position: relative;}#sk-container-id-10 div.sk-item {position: relative;z-index: 1;}#sk-container-id-10 div.sk-parallel {display: flex;align-items: stretch;justify-content: center;background-color: white;position: relative;}#sk-container-id-10 div.sk-item::before, #sk-container-id-10 div.sk-parallel-item::before {content: \"\";position: absolute;border-left: 1px solid gray;box-sizing: border-box;top: 0;bottom: 0;left: 50%;z-index: -1;}#sk-container-id-10 div.sk-parallel-item {display: flex;flex-direction: column;z-index: 1;position: relative;background-color: white;}#sk-container-id-10 div.sk-parallel-item:first-child::after {align-self: flex-end;width: 50%;}#sk-container-id-10 div.sk-parallel-item:last-child::after {align-self: flex-start;width: 50%;}#sk-container-id-10 div.sk-parallel-item:only-child::after {width: 0;}#sk-container-id-10 div.sk-dashed-wrapped {border: 1px dashed gray;margin: 0 0.4em 0.5em 0.4em;box-sizing: border-box;padding-bottom: 0.4em;background-color: white;}#sk-container-id-10 div.sk-label label {font-family: monospace;font-weight: bold;display: inline-block;line-height: 1.2em;}#sk-container-id-10 div.sk-label-container {text-align: center;}#sk-container-id-10 div.sk-container {/* jupyter's `normalize.less` sets `[hidden] { display: none; }` but bootstrap.min.css set `[hidden] { display: none !important; }` so we also need the `!important` here to be able to override the default hidden behavior on the sphinx rendered scikit-learn.org. See: https://github.com/scikit-learn/scikit-learn/issues/21755 */display: inline-block !important;position: relative;}#sk-container-id-10 div.sk-text-repr-fallback {display: none;}</style><div id=\"sk-container-id-10\" class=\"sk-top-container\"><div class=\"sk-text-repr-fallback\"><pre>LinearRegression()</pre><b>In a Jupyter environment, please rerun this cell to show the HTML representation or trust the notebook. <br />On GitHub, the HTML representation is unable to render, please try loading this page with nbviewer.org.</b></div><div class=\"sk-container\" hidden><div class=\"sk-item\"><div class=\"sk-estimator sk-toggleable\"><input class=\"sk-toggleable__control sk-hidden--visually\" id=\"sk-estimator-id-10\" type=\"checkbox\" checked><label for=\"sk-estimator-id-10\" class=\"sk-toggleable__label sk-toggleable__label-arrow\">LinearRegression</label><div class=\"sk-toggleable__content\"><pre>LinearRegression()</pre></div></div></div></div></div>"
      ],
      "text/plain": [
       "LinearRegression()"
      ]
     },
     "execution_count": 263,
     "metadata": {},
     "output_type": "execute_result"
    }
   ],
   "source": [
    "mod = lin()\n",
    "mod.fit([[0],[1],[3]],[[0],[1],[2]])\n"
   ]
  },
  {
   "cell_type": "code",
   "execution_count": 183,
   "metadata": {},
   "outputs": [
    {
     "name": "stdout",
     "output_type": "stream",
     "text": [
      "[[-0.45479154  1.16554311 -0.19897999  0.93781663]]\n",
      "[[ 2.744  4.384  3.    -1.136  3.05 ]]\n"
     ]
    },
    {
     "ename": "ValueError",
     "evalue": "Incompatible dimension for X and Y matrices: X.shape[1] == 4 while Y.shape[1] == 5",
     "output_type": "error",
     "traceback": [
      "\u001b[0;31m---------------------------------------------------------------------------\u001b[0m",
      "\u001b[0;31mValueError\u001b[0m                                Traceback (most recent call last)",
      "\u001b[1;32m/Users/jonahpoczobutt/projects/mixturePred/coeff_recovery.ipynb Cell 5\u001b[0m line \u001b[0;36m4\n\u001b[1;32m      <a href='vscode-notebook-cell:/Users/jonahpoczobutt/projects/mixturePred/coeff_recovery.ipynb#X33sZmlsZQ%3D%3D?line=1'>2</a>\u001b[0m \u001b[39mprint\u001b[39m(value\u001b[39m.\u001b[39mreshape(\u001b[39m1\u001b[39m,\u001b[39m-\u001b[39m\u001b[39m1\u001b[39m))\n\u001b[1;32m      <a href='vscode-notebook-cell:/Users/jonahpoczobutt/projects/mixturePred/coeff_recovery.ipynb#X33sZmlsZQ%3D%3D?line=2'>3</a>\u001b[0m \u001b[39mprint\u001b[39m(observed_coef\u001b[39m.\u001b[39mreshape(\u001b[39m1\u001b[39m,\u001b[39m-\u001b[39m\u001b[39m1\u001b[39m))\n\u001b[0;32m----> <a href='vscode-notebook-cell:/Users/jonahpoczobutt/projects/mixturePred/coeff_recovery.ipynb#X33sZmlsZQ%3D%3D?line=3'>4</a>\u001b[0m \u001b[39mprint\u001b[39m(cosine_similarity(value\u001b[39m.\u001b[39mreshape(\u001b[39m1\u001b[39m,\u001b[39m-\u001b[39m\u001b[39m1\u001b[39m),observed_coef\u001b[39m.\u001b[39mreshape(\u001b[39m1\u001b[39m,\u001b[39m-\u001b[39m\u001b[39m1\u001b[39m)))\n",
      "File \u001b[0;32m~/anaconda3/lib/python3.11/site-packages/sklearn/utils/_param_validation.py:211\u001b[0m, in \u001b[0;36mvalidate_params.<locals>.decorator.<locals>.wrapper\u001b[0;34m(*args, **kwargs)\u001b[0m\n\u001b[1;32m    205\u001b[0m \u001b[39mtry\u001b[39;00m:\n\u001b[1;32m    206\u001b[0m     \u001b[39mwith\u001b[39;00m config_context(\n\u001b[1;32m    207\u001b[0m         skip_parameter_validation\u001b[39m=\u001b[39m(\n\u001b[1;32m    208\u001b[0m             prefer_skip_nested_validation \u001b[39mor\u001b[39;00m global_skip_validation\n\u001b[1;32m    209\u001b[0m         )\n\u001b[1;32m    210\u001b[0m     ):\n\u001b[0;32m--> 211\u001b[0m         \u001b[39mreturn\u001b[39;00m func(\u001b[39m*\u001b[39margs, \u001b[39m*\u001b[39m\u001b[39m*\u001b[39mkwargs)\n\u001b[1;32m    212\u001b[0m \u001b[39mexcept\u001b[39;00m InvalidParameterError \u001b[39mas\u001b[39;00m e:\n\u001b[1;32m    213\u001b[0m     \u001b[39m# When the function is just a wrapper around an estimator, we allow\u001b[39;00m\n\u001b[1;32m    214\u001b[0m     \u001b[39m# the function to delegate validation to the estimator, but we replace\u001b[39;00m\n\u001b[1;32m    215\u001b[0m     \u001b[39m# the name of the estimator by the name of the function in the error\u001b[39;00m\n\u001b[1;32m    216\u001b[0m     \u001b[39m# message to avoid confusion.\u001b[39;00m\n\u001b[1;32m    217\u001b[0m     msg \u001b[39m=\u001b[39m re\u001b[39m.\u001b[39msub(\n\u001b[1;32m    218\u001b[0m         \u001b[39mr\u001b[39m\u001b[39m\"\u001b[39m\u001b[39mparameter of \u001b[39m\u001b[39m\\\u001b[39m\u001b[39mw+ must be\u001b[39m\u001b[39m\"\u001b[39m,\n\u001b[1;32m    219\u001b[0m         \u001b[39mf\u001b[39m\u001b[39m\"\u001b[39m\u001b[39mparameter of \u001b[39m\u001b[39m{\u001b[39;00mfunc\u001b[39m.\u001b[39m\u001b[39m__qualname__\u001b[39m\u001b[39m}\u001b[39;00m\u001b[39m must be\u001b[39m\u001b[39m\"\u001b[39m,\n\u001b[1;32m    220\u001b[0m         \u001b[39mstr\u001b[39m(e),\n\u001b[1;32m    221\u001b[0m     )\n",
      "File \u001b[0;32m~/anaconda3/lib/python3.11/site-packages/sklearn/metrics/pairwise.py:1577\u001b[0m, in \u001b[0;36mcosine_similarity\u001b[0;34m(X, Y, dense_output)\u001b[0m\n\u001b[1;32m   1542\u001b[0m \u001b[39m\u001b[39m\u001b[39m\"\"\"Compute cosine similarity between samples in X and Y.\u001b[39;00m\n\u001b[1;32m   1543\u001b[0m \n\u001b[1;32m   1544\u001b[0m \u001b[39mCosine similarity, or the cosine kernel, computes similarity as the\u001b[39;00m\n\u001b[0;32m   (...)\u001b[0m\n\u001b[1;32m   1573\u001b[0m \u001b[39m    Returns the cosine similarity between samples in X and Y.\u001b[39;00m\n\u001b[1;32m   1574\u001b[0m \u001b[39m\"\"\"\u001b[39;00m\n\u001b[1;32m   1575\u001b[0m \u001b[39m# to avoid recursive import\u001b[39;00m\n\u001b[0;32m-> 1577\u001b[0m X, Y \u001b[39m=\u001b[39m check_pairwise_arrays(X, Y)\n\u001b[1;32m   1579\u001b[0m X_normalized \u001b[39m=\u001b[39m normalize(X, copy\u001b[39m=\u001b[39m\u001b[39mTrue\u001b[39;00m)\n\u001b[1;32m   1580\u001b[0m \u001b[39mif\u001b[39;00m X \u001b[39mis\u001b[39;00m Y:\n",
      "File \u001b[0;32m~/anaconda3/lib/python3.11/site-packages/sklearn/metrics/pairwise.py:190\u001b[0m, in \u001b[0;36mcheck_pairwise_arrays\u001b[0;34m(X, Y, precomputed, dtype, accept_sparse, force_all_finite, copy)\u001b[0m\n\u001b[1;32m    184\u001b[0m         \u001b[39mraise\u001b[39;00m \u001b[39mValueError\u001b[39;00m(\n\u001b[1;32m    185\u001b[0m             \u001b[39m\"\u001b[39m\u001b[39mPrecomputed metric requires shape \u001b[39m\u001b[39m\"\u001b[39m\n\u001b[1;32m    186\u001b[0m             \u001b[39m\"\u001b[39m\u001b[39m(n_queries, n_indexed). Got (\u001b[39m\u001b[39m%d\u001b[39;00m\u001b[39m, \u001b[39m\u001b[39m%d\u001b[39;00m\u001b[39m) \u001b[39m\u001b[39m\"\u001b[39m\n\u001b[1;32m    187\u001b[0m             \u001b[39m\"\u001b[39m\u001b[39mfor \u001b[39m\u001b[39m%d\u001b[39;00m\u001b[39m indexed.\u001b[39m\u001b[39m\"\u001b[39m \u001b[39m%\u001b[39m (X\u001b[39m.\u001b[39mshape[\u001b[39m0\u001b[39m], X\u001b[39m.\u001b[39mshape[\u001b[39m1\u001b[39m], Y\u001b[39m.\u001b[39mshape[\u001b[39m0\u001b[39m])\n\u001b[1;32m    188\u001b[0m         )\n\u001b[1;32m    189\u001b[0m \u001b[39melif\u001b[39;00m X\u001b[39m.\u001b[39mshape[\u001b[39m1\u001b[39m] \u001b[39m!=\u001b[39m Y\u001b[39m.\u001b[39mshape[\u001b[39m1\u001b[39m]:\n\u001b[0;32m--> 190\u001b[0m     \u001b[39mraise\u001b[39;00m \u001b[39mValueError\u001b[39;00m(\n\u001b[1;32m    191\u001b[0m         \u001b[39m\"\u001b[39m\u001b[39mIncompatible dimension for X and Y matrices: \u001b[39m\u001b[39m\"\u001b[39m\n\u001b[1;32m    192\u001b[0m         \u001b[39m\"\u001b[39m\u001b[39mX.shape[1] == \u001b[39m\u001b[39m%d\u001b[39;00m\u001b[39m while Y.shape[1] == \u001b[39m\u001b[39m%d\u001b[39;00m\u001b[39m\"\u001b[39m \u001b[39m%\u001b[39m (X\u001b[39m.\u001b[39mshape[\u001b[39m1\u001b[39m], Y\u001b[39m.\u001b[39mshape[\u001b[39m1\u001b[39m])\n\u001b[1;32m    193\u001b[0m     )\n\u001b[1;32m    195\u001b[0m \u001b[39mreturn\u001b[39;00m X, Y\n",
      "\u001b[0;31mValueError\u001b[0m: Incompatible dimension for X and Y matrices: X.shape[1] == 4 while Y.shape[1] == 5"
     ]
    }
   ],
   "source": [
    "for key,value in estimates.items():\n",
    "    print(value.reshape(1,-1))\n",
    "    print(observed_coef.reshape(1,-1))\n",
    "    print(cosine_similarity(value.reshape(1,-1),observed_coef.reshape(1,-1)))"
   ]
  },
  {
   "cell_type": "code",
   "execution_count": 148,
   "metadata": {},
   "outputs": [],
   "source": [
    "#todo: calcualte average params from util dict and create function to calculate distance from esimtated params by model\n",
    "from sklearn.metrics.pairwise import cosine_similarity\n",
    "\n",
    "def weighted_coefs_from_util(funcs_dict, util_dict, defaults):\n",
    "\n",
    "    avg = np.zeros(len(defaults))\n",
    "    funcs_dict['default']=np.array(defaults)\n",
    "    tot = 0\n",
    "    for i in util_dict:\n",
    "\n",
    "        avg += util_dict[i]*np.array(funcs_dict[i])\n",
    "        tot+= util_dict[i]\n",
    "    \n",
    "    return avg/tot\n",
    "\n",
    "\n",
    "\n",
    "\n"
   ]
  },
  {
   "cell_type": "code",
   "execution_count": 155,
   "metadata": {},
   "outputs": [
    {
     "ename": "TypeError",
     "evalue": "'DecisionTreeRegressor' object is not subscriptable",
     "output_type": "error",
     "traceback": [
      "\u001b[0;31m---------------------------------------------------------------------------\u001b[0m",
      "\u001b[0;31mKeyboardInterrupt\u001b[0m                         Traceback (most recent call last)",
      "\u001b[1;32m/Users/jonahpoczobutt/projects/mixturePred/coeff_recovery.ipynb Cell 7\u001b[0m line \u001b[0;36m3\n\u001b[1;32m     <a href='vscode-notebook-cell:/Users/jonahpoczobutt/projects/mixturePred/coeff_recovery.ipynb#W4sZmlsZQ%3D%3D?line=35'>36</a>\u001b[0m \u001b[39mtry\u001b[39;00m:\n\u001b[0;32m---> <a href='vscode-notebook-cell:/Users/jonahpoczobutt/projects/mixturePred/coeff_recovery.ipynb#W4sZmlsZQ%3D%3D?line=36'>37</a>\u001b[0m     pred_val \u001b[39m=\u001b[39m mod\u001b[39m.\u001b[39mestimators_[j]\u001b[39m.\u001b[39mpredict([x])\n\u001b[1;32m     <a href='vscode-notebook-cell:/Users/jonahpoczobutt/projects/mixturePred/coeff_recovery.ipynb#W4sZmlsZQ%3D%3D?line=37'>38</a>\u001b[0m     ests[j,i] \u001b[39m=\u001b[39m coef_impact_estimate(x, mod\u001b[39m.\u001b[39mestimators_[j]\u001b[39m.\u001b[39mtree_, feature \u001b[39m=\u001b[39mi, pred_val\u001b[39m=\u001b[39mpred_val)\n",
      "File \u001b[0;32m~/anaconda3/lib/python3.11/site-packages/sklearn/tree/_classes.py:500\u001b[0m, in \u001b[0;36mBaseDecisionTree.predict\u001b[0;34m(self, X, check_input)\u001b[0m\n\u001b[1;32m    499\u001b[0m check_is_fitted(\u001b[39mself\u001b[39m)\n\u001b[0;32m--> 500\u001b[0m X \u001b[39m=\u001b[39m \u001b[39mself\u001b[39m\u001b[39m.\u001b[39m_validate_X_predict(X, check_input)\n\u001b[1;32m    501\u001b[0m proba \u001b[39m=\u001b[39m \u001b[39mself\u001b[39m\u001b[39m.\u001b[39mtree_\u001b[39m.\u001b[39mpredict(X)\n",
      "File \u001b[0;32m~/anaconda3/lib/python3.11/site-packages/sklearn/tree/_classes.py:460\u001b[0m, in \u001b[0;36mBaseDecisionTree._validate_X_predict\u001b[0;34m(self, X, check_input)\u001b[0m\n\u001b[1;32m    459\u001b[0m     force_all_finite \u001b[39m=\u001b[39m \u001b[39mTrue\u001b[39;00m\n\u001b[0;32m--> 460\u001b[0m X \u001b[39m=\u001b[39m \u001b[39mself\u001b[39m\u001b[39m.\u001b[39m_validate_data(\n\u001b[1;32m    461\u001b[0m     X,\n\u001b[1;32m    462\u001b[0m     dtype\u001b[39m=\u001b[39mDTYPE,\n\u001b[1;32m    463\u001b[0m     accept_sparse\u001b[39m=\u001b[39m\u001b[39m\"\u001b[39m\u001b[39mcsr\u001b[39m\u001b[39m\"\u001b[39m,\n\u001b[1;32m    464\u001b[0m     reset\u001b[39m=\u001b[39m\u001b[39mFalse\u001b[39;00m,\n\u001b[1;32m    465\u001b[0m     force_all_finite\u001b[39m=\u001b[39mforce_all_finite,\n\u001b[1;32m    466\u001b[0m )\n\u001b[1;32m    467\u001b[0m \u001b[39mif\u001b[39;00m issparse(X) \u001b[39mand\u001b[39;00m (\n\u001b[1;32m    468\u001b[0m     X\u001b[39m.\u001b[39mindices\u001b[39m.\u001b[39mdtype \u001b[39m!=\u001b[39m np\u001b[39m.\u001b[39mintc \u001b[39mor\u001b[39;00m X\u001b[39m.\u001b[39mindptr\u001b[39m.\u001b[39mdtype \u001b[39m!=\u001b[39m np\u001b[39m.\u001b[39mintc\n\u001b[1;32m    469\u001b[0m ):\n",
      "File \u001b[0;32m~/anaconda3/lib/python3.11/site-packages/sklearn/base.py:604\u001b[0m, in \u001b[0;36mBaseEstimator._validate_data\u001b[0;34m(self, X, y, reset, validate_separately, cast_to_ndarray, **check_params)\u001b[0m\n\u001b[1;32m    603\u001b[0m \u001b[39melif\u001b[39;00m \u001b[39mnot\u001b[39;00m no_val_X \u001b[39mand\u001b[39;00m no_val_y:\n\u001b[0;32m--> 604\u001b[0m     out \u001b[39m=\u001b[39m check_array(X, input_name\u001b[39m=\u001b[39m\u001b[39m\"\u001b[39m\u001b[39mX\u001b[39m\u001b[39m\"\u001b[39m, \u001b[39m*\u001b[39m\u001b[39m*\u001b[39mcheck_params)\n\u001b[1;32m    605\u001b[0m \u001b[39melif\u001b[39;00m no_val_X \u001b[39mand\u001b[39;00m \u001b[39mnot\u001b[39;00m no_val_y:\n",
      "File \u001b[0;32m~/anaconda3/lib/python3.11/site-packages/sklearn/utils/validation.py:843\u001b[0m, in \u001b[0;36mcheck_array\u001b[0;34m(array, accept_sparse, accept_large_sparse, dtype, order, copy, force_all_finite, ensure_2d, allow_nd, ensure_min_samples, ensure_min_features, estimator, input_name)\u001b[0m\n\u001b[1;32m    842\u001b[0m \u001b[39mif\u001b[39;00m dtype \u001b[39mis\u001b[39;00m \u001b[39mnot\u001b[39;00m \u001b[39mNone\u001b[39;00m \u001b[39mand\u001b[39;00m _is_numpy_namespace(xp):\n\u001b[0;32m--> 843\u001b[0m     dtype \u001b[39m=\u001b[39m np\u001b[39m.\u001b[39mdtype(dtype)\n\u001b[1;32m    845\u001b[0m \u001b[39mif\u001b[39;00m force_all_finite \u001b[39mnot\u001b[39;00m \u001b[39min\u001b[39;00m (\u001b[39mTrue\u001b[39;00m, \u001b[39mFalse\u001b[39;00m, \u001b[39m\"\u001b[39m\u001b[39mallow-nan\u001b[39m\u001b[39m\"\u001b[39m):\n",
      "\u001b[0;31mKeyboardInterrupt\u001b[0m: ",
      "\nDuring handling of the above exception, another exception occurred:\n",
      "\u001b[0;31mTypeError\u001b[0m                                 Traceback (most recent call last)",
      "\u001b[1;32m/Users/jonahpoczobutt/projects/mixturePred/coeff_recovery.ipynb Cell 7\u001b[0m line \u001b[0;36m2\n\u001b[1;32m     <a href='vscode-notebook-cell:/Users/jonahpoczobutt/projects/mixturePred/coeff_recovery.ipynb#W4sZmlsZQ%3D%3D?line=21'>22</a>\u001b[0m     \u001b[39mreturn\u001b[39;00m res\n\u001b[1;32m     <a href='vscode-notebook-cell:/Users/jonahpoczobutt/projects/mixturePred/coeff_recovery.ipynb#W4sZmlsZQ%3D%3D?line=23'>24</a>\u001b[0m \u001b[39m#get model estimates of all coefficients\u001b[39;00m\n\u001b[0;32m---> <a href='vscode-notebook-cell:/Users/jonahpoczobutt/projects/mixturePred/coeff_recovery.ipynb#W4sZmlsZQ%3D%3D?line=24'>25</a>\u001b[0m estimates \u001b[39m=\u001b[39m get_coef_estimates(models, train)\n",
      "\u001b[1;32m/Users/jonahpoczobutt/projects/mixturePred/coeff_recovery.ipynb Cell 7\u001b[0m line \u001b[0;36m9\n\u001b[1;32m      <a href='vscode-notebook-cell:/Users/jonahpoczobutt/projects/mixturePred/coeff_recovery.ipynb#W4sZmlsZQ%3D%3D?line=3'>4</a>\u001b[0m \u001b[39mfor\u001b[39;00m i \u001b[39min\u001b[39;00m models:\n\u001b[1;32m      <a href='vscode-notebook-cell:/Users/jonahpoczobutt/projects/mixturePred/coeff_recovery.ipynb#W4sZmlsZQ%3D%3D?line=4'>5</a>\u001b[0m \n\u001b[1;32m      <a href='vscode-notebook-cell:/Users/jonahpoczobutt/projects/mixturePred/coeff_recovery.ipynb#W4sZmlsZQ%3D%3D?line=5'>6</a>\u001b[0m     \u001b[39m#this is an ensemble model\u001b[39;00m\n\u001b[1;32m      <a href='vscode-notebook-cell:/Users/jonahpoczobutt/projects/mixturePred/coeff_recovery.ipynb#W4sZmlsZQ%3D%3D?line=6'>7</a>\u001b[0m     \u001b[39mif\u001b[39;00m \u001b[39mhasattr\u001b[39m(i, \u001b[39m'\u001b[39m\u001b[39mestimators_\u001b[39m\u001b[39m'\u001b[39m):\n\u001b[0;32m----> <a href='vscode-notebook-cell:/Users/jonahpoczobutt/projects/mixturePred/coeff_recovery.ipynb#W4sZmlsZQ%3D%3D?line=8'>9</a>\u001b[0m         est \u001b[39m=\u001b[39m estimate_all_coefs_for_dataset(train[:,:\u001b[39m-\u001b[39m\u001b[39m1\u001b[39m], i)\n\u001b[1;32m     <a href='vscode-notebook-cell:/Users/jonahpoczobutt/projects/mixturePred/coeff_recovery.ipynb#W4sZmlsZQ%3D%3D?line=9'>10</a>\u001b[0m         res[i]\u001b[39m=\u001b[39mnp\u001b[39m.\u001b[39mnanmean(est,axis\u001b[39m=\u001b[39m\u001b[39m0\u001b[39m)\n\u001b[1;32m     <a href='vscode-notebook-cell:/Users/jonahpoczobutt/projects/mixturePred/coeff_recovery.ipynb#W4sZmlsZQ%3D%3D?line=11'>12</a>\u001b[0m     \u001b[39m#this is a decision tree\u001b[39;00m\n",
      "\u001b[1;32m/Users/jonahpoczobutt/projects/mixturePred/coeff_recovery.ipynb Cell 7\u001b[0m line \u001b[0;36m5\n\u001b[1;32m     <a href='vscode-notebook-cell:/Users/jonahpoczobutt/projects/mixturePred/coeff_recovery.ipynb#W4sZmlsZQ%3D%3D?line=47'>48</a>\u001b[0m \u001b[39mfor\u001b[39;00m i \u001b[39min\u001b[39;00m \u001b[39mrange\u001b[39m(\u001b[39mlen\u001b[39m(x)):\n\u001b[1;32m     <a href='vscode-notebook-cell:/Users/jonahpoczobutt/projects/mixturePred/coeff_recovery.ipynb#W4sZmlsZQ%3D%3D?line=49'>50</a>\u001b[0m     \u001b[39mif\u001b[39;00m ensemble:\n\u001b[0;32m---> <a href='vscode-notebook-cell:/Users/jonahpoczobutt/projects/mixturePred/coeff_recovery.ipynb#W4sZmlsZQ%3D%3D?line=50'>51</a>\u001b[0m         res[i] \u001b[39m=\u001b[39m estimate_all_coefs_ensemble(x[i], mod)\n\u001b[1;32m     <a href='vscode-notebook-cell:/Users/jonahpoczobutt/projects/mixturePred/coeff_recovery.ipynb#W4sZmlsZQ%3D%3D?line=52'>53</a>\u001b[0m     \u001b[39melse\u001b[39;00m:\n\u001b[1;32m     <a href='vscode-notebook-cell:/Users/jonahpoczobutt/projects/mixturePred/coeff_recovery.ipynb#W4sZmlsZQ%3D%3D?line=53'>54</a>\u001b[0m         res[i] \u001b[39m=\u001b[39m estimate_all_coefs(x[i], mod\u001b[39m.\u001b[39mtree_)\n",
      "\u001b[1;32m/Users/jonahpoczobutt/projects/mixturePred/coeff_recovery.ipynb Cell 7\u001b[0m line \u001b[0;36m4\n\u001b[1;32m     <a href='vscode-notebook-cell:/Users/jonahpoczobutt/projects/mixturePred/coeff_recovery.ipynb#W4sZmlsZQ%3D%3D?line=37'>38</a>\u001b[0m             ests[j,i] \u001b[39m=\u001b[39m coef_impact_estimate(x, mod\u001b[39m.\u001b[39mestimators_[j]\u001b[39m.\u001b[39mtree_, feature \u001b[39m=\u001b[39mi, pred_val\u001b[39m=\u001b[39mpred_val)\n\u001b[1;32m     <a href='vscode-notebook-cell:/Users/jonahpoczobutt/projects/mixturePred/coeff_recovery.ipynb#W4sZmlsZQ%3D%3D?line=38'>39</a>\u001b[0m         \u001b[39mexcept\u001b[39;00m:\n\u001b[0;32m---> <a href='vscode-notebook-cell:/Users/jonahpoczobutt/projects/mixturePred/coeff_recovery.ipynb#W4sZmlsZQ%3D%3D?line=39'>40</a>\u001b[0m             pred_val \u001b[39m=\u001b[39m mod\u001b[39m.\u001b[39mestimators_[j][\u001b[39m0\u001b[39m]\u001b[39m.\u001b[39mpredict([x])\n\u001b[1;32m     <a href='vscode-notebook-cell:/Users/jonahpoczobutt/projects/mixturePred/coeff_recovery.ipynb#W4sZmlsZQ%3D%3D?line=40'>41</a>\u001b[0m             ests[j,i] \u001b[39m=\u001b[39m coef_impact_estimate(x, mod\u001b[39m.\u001b[39mestimators_[j][\u001b[39m0\u001b[39m]\u001b[39m.\u001b[39mtree_, feature \u001b[39m=\u001b[39mi, pred_val\u001b[39m=\u001b[39mpred_val)\n\u001b[1;32m     <a href='vscode-notebook-cell:/Users/jonahpoczobutt/projects/mixturePred/coeff_recovery.ipynb#W4sZmlsZQ%3D%3D?line=42'>43</a>\u001b[0m \u001b[39mreturn\u001b[39;00m np\u001b[39m.\u001b[39mnanmean(ests, axis\u001b[39m=\u001b[39m\u001b[39m0\u001b[39m)\n",
      "\u001b[0;31mTypeError\u001b[0m: 'DecisionTreeRegressor' object is not subscriptable"
     ]
    }
   ],
   "source": [
    "def get_coef_estimates(models, train):\n",
    "\n",
    "    res = dict()\n",
    "    for i in models:\n",
    "\n",
    "        #this is an ensemble model\n",
    "        if hasattr(i, 'estimators_'):\n",
    "\n",
    "            est = estimate_all_coefs_for_dataset(train[:,:-1], i)\n",
    "            res[i]=np.nanmean(est,axis=0)\n",
    "\n",
    "        #this is a decision tree\n",
    "        elif hasattr(i, 'tree_'):\n",
    "\n",
    "            est = estimate_all_coefs_for_dataset(train[:,:-1],i, ensemble=False)\n",
    "            res[i]=np.nanmean(est, axis=0)\n",
    "\n",
    "        #this is a regression model\n",
    "        else:\n",
    "            res[i]=i.coef_\n",
    "\n",
    "    return res\n",
    "\n",
    "#get model estimates of all coefficients\n",
    "estimates = get_coef_estimates(models, train)\n",
    "\n",
    "\n",
    "\n",
    "\n"
   ]
  },
  {
   "cell_type": "code",
   "execution_count": 177,
   "metadata": {},
   "outputs": [],
   "source": [
    "# import matplotlib.pyplot as plt\n",
    "# from sklearn.tree import plot_tree\n",
    "# plt.figure(figsize=(10,15))\n",
    "# a = plot_tree(models[-1])\n",
    "\n",
    "def rank_by_coef_error(models, weighted_coefs):\n",
    "\n",
    "    res=dict()\n",
    "    for key, val in models.items():\n",
    "\n",
    "        res[key] = cosine_similarity(val.reshape(1,-1), weighted_coefs.reshape(1,-1))\n",
    "    \n",
    "    return res\n",
    "    "
   ]
  },
  {
   "cell_type": "code",
   "execution_count": 26,
   "metadata": {},
   "outputs": [
    {
     "data": {
      "text/plain": [
       "(7.220267001025663, 1.0)"
      ]
     },
     "execution_count": 26,
     "metadata": {},
     "output_type": "execute_result"
    }
   ],
   "source": [
    "def traverse_to_node(x, tree, feature, i=0, prop=1):\n",
    "        \"\"\" \n",
    "        tree: decision tree object\n",
    "        feature: feature that we are holding blank\n",
    "        i: index at which to begin in attribute arrays\n",
    "        prop: proportion of weight we are assigning to this prediction\n",
    "        \"\"\"\n",
    "\n",
    "        #return prediction with proper proportion if this is a node\n",
    "        if tree.children_left[i]==-1:\n",
    "\n",
    "            return (tree.value[i][0][0], prop)\n",
    "            \n",
    "        #normal traverse if this is not the feature of interest\n",
    "        if tree.feature[i]!= feature:\n",
    "             \n",
    "             if x[tree.feature[i]] <= tree.threshold[i]:\n",
    "                  \n",
    "                  return traverse_to_node(x, tree, feature, i = tree.children_left[i], prop = prop)\n",
    "             else:\n",
    "                  return traverse_to_node(x, tree, feature, i = tree.children_right[i], prop = prop)\n",
    "\n",
    "        #otherwise we need to do proportional split without conditioning on the value of feature\n",
    "        else:\n",
    "            \n",
    "            #aesthetic only\n",
    "            samps = tree.n_node_samples\n",
    "\n",
    "            #traverse to left with proper proportions\n",
    "            prop_left = prop * samps[tree.children_left[i]]/samps[i]\n",
    "            left =traverse_to_node(x, tree, feature, i = tree.children_left[i], prop = prop_left)\n",
    "            \n",
    "            \n",
    "            #traverse to right with proper proportions\n",
    "            prop_right = prop * samps[tree.children_right[i]]/samps[i]\n",
    "            right = traverse_to_node(x, tree, feature, i = tree.children_right[i], prop = prop_right)\n",
    "            \n",
    "            return (left[0]*(left[1]/(left[1]+right[1])) + right[0]*(right[1]/(left[1]+right[1])),left[1]+right[1])\n",
    "        "
   ]
  },
  {
   "cell_type": "code",
   "execution_count": 175,
   "metadata": {},
   "outputs": [],
   "source": [
    "def coef_impact_estimate(x, tree, feature, feature_mean, pred_val):\n",
    "\n",
    "    #don't want to include impact on coeff if 0\n",
    "    if x[feature]==0:\n",
    "        return None\n",
    "    \n",
    "    #get masked_prediction\n",
    "    masked_pred_val = traverse_to_node(x, tree, feature)[0]\n",
    "\n",
    "    return (pred_val - masked_pred_val) / x[feature]\n",
    "\n",
    "def estimate_all_coefs(x, tree):\n",
    "\n",
    "    #create array to catch coeff estimates\n",
    "    ests = np.zeros(len(x))\n",
    "\n",
    "    #get unmasked prediction value\n",
    "    try:\n",
    "        pred_val = tree.predict(x.astype('float32').reshape(1,-1))[0]\n",
    "    except:\n",
    "        print (x)\n",
    "    for i in range(len(x)):\n",
    "\n",
    "        ests[i] = coef_impact_estimate(x, tree, feature=i, pred_val = pred_val)\n",
    "\n",
    "    return ests\n",
    "\n",
    "def estimate_all_coefs_ensemble(x, mod):\n",
    "\n",
    "    ests = np.zeros((len(mod.estimators_),len(x)))\n",
    "\n",
    "    for i in range(len(x)):\n",
    "        for j in range(len(mod.estimators_)):\n",
    "\n",
    "            #catch RF and GBM being organized differently. very sloppy\n",
    "            try:\n",
    "                pred_val = mod.estimators_[j].predict([x])\n",
    "                ests[j,i] = coef_impact_estimate(x, mod.estimators_[j].tree_, feature =i, pred_val=pred_val)\n",
    "            except:\n",
    "                pred_val = mod.estimators_[j][0].predict([x])\n",
    "                ests[j,i] = coef_impact_estimate(x, mod.estimators_[j][0].tree_, feature =i, pred_val=pred_val)\n",
    "\n",
    "    return np.nanmean(ests, axis=0)\n",
    "\n",
    "def estimate_all_coefs_for_dataset(x, mod, ensemble=True):\n",
    "\n",
    "    res = np.zeros(x.shape)\n",
    "    for i in range(len(x)):\n",
    "\n",
    "        if ensemble:\n",
    "            res[i] = estimate_all_coefs_ensemble(x[i], mod)\n",
    "\n",
    "        else:\n",
    "            res[i] = estimate_all_coefs(x[i], mod.tree_)\n",
    "\n",
    "    return res\n",
    "\n",
    "\n"
   ]
  },
  {
   "cell_type": "code",
   "execution_count": 26,
   "metadata": {},
   "outputs": [
    {
     "name": "stdout",
     "output_type": "stream",
     "text": [
      "0.63354\n",
      "0.4527642853244556\n"
     ]
    }
   ],
   "source": [
    "import numpy as np\n",
    "l1 = [1,1,0]\n",
    "l2 = [1,1,1,0,0]\n",
    "\n",
    "tot = 0\n",
    "l1_ = 0\n",
    "seen = 0\n",
    "for i in range(100000):\n",
    "\n",
    "    lit = np.random.choice([0,1])\n",
    "\n",
    "    if lit==0:\n",
    "        pup = np.random.choice(l1)\n",
    "        tot += pup\n",
    "\n",
    "        if pup==0:\n",
    "            l1_+=1\n",
    "            seen+=1\n",
    "\n",
    "    else:\n",
    "        pup = np.random.choice(l2)\n",
    "        tot+=pup\n",
    "\n",
    "        if pup==0:\n",
    "            seen+=1\n",
    "\n",
    "print(tot/100000)\n",
    "print(l1_/seen)\n"
   ]
  },
  {
   "cell_type": "code",
   "execution_count": 27,
   "metadata": {},
   "outputs": [
    {
     "name": "stdout",
     "output_type": "stream",
     "text": [
      "0.0\n"
     ]
    }
   ],
   "source": [
    "g100=0\n",
    "for _ in range(10000):\n",
    "\n",
    "    unc=0\n",
    "    for i in range(2000):\n",
    "\n",
    "        a=np.random.choice([0,1], p=[0.01,0.99])\n",
    "\n",
    "        if a==0:\n",
    "            unc+=1\n",
    "    if unc>99:\n",
    "        g100+=1\n",
    "\n",
    "print(g100/10000)"
   ]
  },
  {
   "cell_type": "code",
   "execution_count": null,
   "metadata": {},
   "outputs": [],
   "source": [
    "from scipy.stats import binom"
   ]
  }
 ],
 "metadata": {
  "kernelspec": {
   "display_name": "base",
   "language": "python",
   "name": "python3"
  },
  "language_info": {
   "codemirror_mode": {
    "name": "ipython",
    "version": 3
   },
   "file_extension": ".py",
   "mimetype": "text/x-python",
   "name": "python",
   "nbconvert_exporter": "python",
   "pygments_lexer": "ipython3",
   "version": "3.11.4"
  },
  "orig_nbformat": 4
 },
 "nbformat": 4,
 "nbformat_minor": 2
}
