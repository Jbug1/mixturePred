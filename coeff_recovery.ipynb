{
 "cells": [
  {
   "cell_type": "code",
   "execution_count": 2,
   "metadata": {},
   "outputs": [],
   "source": [
    "import numpy as np\n",
    "from scipy.stats import multivariate_normal as mvn\n",
    "from sklearn.linear_model import LinearRegression as lin \n",
    "from sklearn.linear_model import Ridge\n",
    "from sklearn.linear_model import Lasso\n",
    "from sklearn.linear_model import ElasticNet as en \n",
    "from sklearn.ensemble import RandomForestRegressor as rf\n",
    "from sklearn.ensemble import GradientBoostingRegressor as gb\n",
    "from sklearn.ensemble import ExtraTreesRegressor as et\n",
    "from sklearn.ensemble import HistGradientBoostingRegressor as hist\n",
    "import matplotlib.pyplot as plt\n",
    "from sklearn.tree import DecisionTreeRegressor as dt\n",
    "import pandas as pd\n",
    "from bisect import bisect_left as bi"
   ]
  },
  {
   "cell_type": "code",
   "execution_count": 3,
   "metadata": {},
   "outputs": [],
   "source": [
    "def generate_function_coefficients(func_specs,n=1):\n",
    "    \"\"\"\n",
    "\n",
    "    sample function coeffieients from normal distribution\n",
    "    \"\"\"\n",
    "\n",
    "    coeffs=np.zeros((n,len(func_specs)))\n",
    "    for _ in range(n):\n",
    "        for i in range(len(func_specs)):\n",
    "\n",
    "            coeffs[_,i] = np.random.normal(loc=func_specs[i][0],scale=func_specs[i][1])\n",
    "            \n",
    "    return coeffs\n",
    "\n",
    "def generate_func_output(func_coeffs, data, intercept):\n",
    "\n",
    "    wo_noise = np.zeros(len(data))\n",
    "    for i in range(len(data)):\n",
    "\n",
    "        coeffs = func_coeffs[i%len(func_coeffs)]\n",
    "        wo_noise[i]= (data[i]@coeffs) + intercept\n",
    "\n",
    "    return wo_noise\n",
    "\n",
    "\n",
    "def generate_correlated_samples(means,n,cov_mat):\n",
    "\n",
    "    return mvn.rvs(mean = means, cov = cov_mat, size = n)\n",
    "\n",
    "\n",
    "def bake_off_func_output(train, test, models, error_funcs):\n",
    "\n",
    "    res = dict()\n",
    "\n",
    "    for i in models:\n",
    "\n",
    "        out=list()\n",
    "        i.fit(train[:,:-1],train[:,-1])\n",
    "\n",
    "        for j in error_funcs:\n",
    "                  \n",
    "            out.append(j(i.predict(test[:,:-1]).squeeze(), test[:,-1].squeeze()))\n",
    "        \n",
    "        res[str(i)]=out\n",
    "        \n",
    "    return res\n",
    "\n",
    "def rmse(pred, true):\n",
    "\n",
    "    return np.sqrt(sum((true-pred)**2)/len(pred))\n",
    "\n",
    "\n"
   ]
  },
  {
   "cell_type": "code",
   "execution_count": 4,
   "metadata": {},
   "outputs": [],
   "source": [
    "\n",
    "def piecewise(input, funcs_dict, critical_vars, default_coeffs=None):\n",
    "    \"\"\"\n",
    "    len of coeffs must be equal to total entries in critical points +1 for each critical var\n",
    "    coeffs(funciton coefficients )\n",
    "    critical_points- key=critical_var, val= array\n",
    "\n",
    "    \"\"\"\n",
    "\n",
    "    keys = list(critical_vars.keys())\n",
    "\n",
    "    #create dictionary to track how often each piece is used\n",
    "    utilization_dict= dict()\n",
    "    utilization_dict['default']=0\n",
    "    for i in funcs_dict.keys():\n",
    "        utilization_dict[i]=0\n",
    "    \n",
    "    y=np.zeros(len(input))\n",
    "    for x in range(len(input)):\n",
    "\n",
    "        key=np.zeros(len(keys))\n",
    "        for i in range(len(key)):\n",
    "\n",
    "            #get the bucket for this x array by critical variable\n",
    "            pos = bi(critical_vars[keys[i]], input[x,i])\n",
    "            key[i]=pos\n",
    "\n",
    "        #get the proper coefficients for this input array\n",
    "        key=tuple(key)\n",
    "        if key in funcs_dict.keys():\n",
    "\n",
    "            utilization_dict[key]+=1\n",
    "            y[x]= input[x]@funcs_dict[key]\n",
    "        else:\n",
    "            utilization_dict['default']+=1\n",
    "            y[x]= input[x]@ default_coeffs\n",
    "\n",
    "    return y, utilization_dict\n",
    "\n",
    "critical_vars = {0:[0.5,4]}#,1:[0.5,1,1.5,4,20]}\n",
    "funcs_dict= {(0,):[1,7,3,4,5],(1,):[3,4,3,0,3],(2,):[3,4,3,-8,2]}#,(2,0):[5,-3,3,0,-5],(0,1):[12,10,3,0,1]}\n",
    "input = np.array([[-1,1],[1,1],[6,3]])\n",
    "\n",
    "#piecewise(data[:,:-1], funcs_dict, critical_vars, default_coeffs=[-1,-10,3,2,0])\n",
    "\n"
   ]
  },
  {
   "cell_type": "code",
   "execution_count": 7,
   "metadata": {},
   "outputs": [
    {
     "name": "stdout",
     "output_type": "stream",
     "text": [
      "(500, 1)\n",
      "(500, 5)\n",
      "(500, 6)\n",
      "default: 0\n",
      "(0,): 70\n",
      "(1,): 315\n",
      "(2,): 115\n"
     ]
    }
   ],
   "source": [
    "size=500\n",
    "\n",
    "a = np.random.exponential(scale = 3, size=size)\n",
    "b = np.clip(a+np.random.normal(0,1,size), 0, a_max=np.inf)\n",
    "c = np.clip(a+np.random.normal(0,4,size), 0, a_max=np.inf)\n",
    "d = np.random.normal(0,10,size)\n",
    "e = d+np.random.normal(0,10,size)\n",
    "data = pd.DataFrame({'a':a,'b':b,'c':c,'d':d,'e':e}).to_numpy()\n",
    "\n",
    "func_coeffs = [\n",
    "    (4,0),\n",
    "    (0,0),\n",
    "    (-1,0),\n",
    "    (4,0),\n",
    "    (0,0),\n",
    "]\n",
    "\n",
    "#get coefficients in proper format\n",
    "coeffs = generate_function_coefficients(func_coeffs, n=1)\n",
    "\n",
    "#generate noise\n",
    "noise=np.random.normal(0,4, size=size)\n",
    "\n",
    "#generate function output\n",
    "#y = (generate_func_output(coeffs, data, 0)+noise).reshape(-1,1)\n",
    "y, util_dict = piecewise(data, funcs_dict, critical_vars, default_coeffs=[-1,-10,3,4,5])\n",
    "y=y+noise\n",
    "y=y.reshape(-1,1)\n",
    "\n",
    "print(y.shape)\n",
    "print(data.shape)\n",
    "data =  np.concatenate((data, y),axis=1)\n",
    "print(data.shape)\n",
    "train=data[:int(size/2)]\n",
    "test=data[int(size/2):]\n",
    "\n",
    "models = [\n",
    "    lin(),\n",
    "    Ridge(),\n",
    "    Lasso(),\n",
    "    en(),\n",
    "    rf(),\n",
    "    gb(),\n",
    "    et(),\n",
    "    hist(),\n",
    "    dt()\n",
    "]\n",
    "pd.DataFrame(data).corr()\n",
    "\n",
    "for i in util_dict:\n",
    "    print(f'{i}: {util_dict[i]}')"
   ]
  },
  {
   "cell_type": "code",
   "execution_count": 34,
   "metadata": {},
   "outputs": [],
   "source": [
    "res = bake_off_func_output(train[:10],test,models,[rmse])"
   ]
  },
  {
   "cell_type": "code",
   "execution_count": 35,
   "metadata": {},
   "outputs": [
    {
     "data": {
      "image/png": "[encoded data removed]",
      "text/plain": [
       "<Figure size 720x1080 with 1 Axes>"
      ]
     },
     "metadata": {
      "needs_background": "light"
     },
     "output_type": "display_data"
    }
   ],
   "source": [
    "import matplotlib.pyplot as plt\n",
    "from sklearn.tree import plot_tree\n",
    "plt.figure(figsize=(10,15))\n",
    "a = plot_tree(models[-1])\n"
   ]
  },
  {
   "cell_type": "code",
   "execution_count": 41,
   "metadata": {},
   "outputs": [
    {
     "data": {
      "text/plain": [
       "-8.334478"
      ]
     },
     "execution_count": 41,
     "metadata": {},
     "output_type": "execute_result"
    }
   ],
   "source": [
    "(0.25*-62.455) + (0.75*0.3333*35.552) +(0.75*0.6666*-3.216)"
   ]
  },
  {
   "cell_type": "code",
   "execution_count": 40,
   "metadata": {},
   "outputs": [
    {
     "name": "stdout",
     "output_type": "stream",
     "text": [
      "0.25\n",
      "-62.454971147681576 0.25\n",
      "0.75\n",
      "0.5\n",
      "-3.216135912867325 0.5\n",
      "0.25\n",
      "35.5522306843175 0.25\n"
     ]
    },
    {
     "data": {
      "text/plain": [
       "(-8.333753072274682, 1.0)"
      ]
     },
     "execution_count": 40,
     "metadata": {},
     "output_type": "execute_result"
    }
   ],
   "source": [
    "def traverse_to_node(x, tree, feature, i=0, prop=1):\n",
    "        \"\"\" \n",
    "        tree: decision tree object\n",
    "        feature: feature that we are holding blank\n",
    "        i: index at which to begin in attribute arrays\n",
    "        prop: proportion of weight we are assigning to this prediction\n",
    "        \"\"\"\n",
    "\n",
    "        #return prediction with proper proportion if this is a node\n",
    "        if tree.children_left[i]==-1:\n",
    "\n",
    "            print(tree.value[i][0][0], prop)\n",
    "            return (tree.value[i][0][0], prop)\n",
    "            \n",
    "        #normal traverse if this is not the feature of interest\n",
    "        if tree.feature[i]!= feature:\n",
    "             \n",
    "             if x[tree.feature[i]] <= tree.threshold[i]:\n",
    "                  \n",
    "                  return traverse_to_node(x, tree, feature, i = tree.children_left[i], prop = prop)\n",
    "             else:\n",
    "                  return traverse_to_node(x, tree, feature, i = tree.children_right[i], prop = prop)\n",
    "\n",
    "        #otherwise we need to do proportional split without conditioning on the value of feature\n",
    "        else:\n",
    "            \n",
    "            #aesthetic only\n",
    "            samps = tree.n_node_samples\n",
    "\n",
    "            #traverse to left with proper proportions\n",
    "            prop_left = prop * samps[tree.children_left[i]]/samps[i]\n",
    "            print(prop_left)\n",
    "            left =traverse_to_node(x, tree, feature, i = tree.children_left[i], prop = prop_left)\n",
    "            \n",
    "            \n",
    "            #traverse to right with proper proportions\n",
    "            prop_right = prop * samps[tree.children_right[i]]/samps[i]\n",
    "            print(prop_right)\n",
    "            right = traverse_to_node(x, tree, feature, i = tree.children_right[i], prop = prop_right)\n",
    "            \n",
    "            return (left[0]*(left[1]/(left[1]+right[1])) + right[0]*(right[1]/(left[1]+right[1])),left[1]+right[1])\n",
    "        \n",
    "\n",
    "traverse_to_node([0,0,0,0,0], models[-1].tree_, feature=3)"
   ]
  },
  {
   "cell_type": "code",
   "execution_count": null,
   "metadata": {},
   "outputs": [],
   "source": []
  },
  {
   "cell_type": "code",
   "execution_count": 26,
   "metadata": {},
   "outputs": [
    {
     "name": "stdout",
     "output_type": "stream",
     "text": [
      "0.63354\n",
      "0.4527642853244556\n"
     ]
    }
   ],
   "source": [
    "import numpy as np\n",
    "l1 = [1,1,0]\n",
    "l2 = [1,1,1,0,0]\n",
    "\n",
    "tot = 0\n",
    "l1_ = 0\n",
    "seen = 0\n",
    "for i in range(100000):\n",
    "\n",
    "    lit = np.random.choice([0,1])\n",
    "\n",
    "    if lit==0:\n",
    "        pup = np.random.choice(l1)\n",
    "        tot += pup\n",
    "\n",
    "        if pup==0:\n",
    "            l1_+=1\n",
    "            seen+=1\n",
    "\n",
    "    else:\n",
    "        pup = np.random.choice(l2)\n",
    "        tot+=pup\n",
    "\n",
    "        if pup==0:\n",
    "            seen+=1\n",
    "\n",
    "print(tot/100000)\n",
    "print(l1_/seen)\n"
   ]
  },
  {
   "cell_type": "code",
   "execution_count": 27,
   "metadata": {},
   "outputs": [
    {
     "name": "stdout",
     "output_type": "stream",
     "text": [
      "0.0\n"
     ]
    }
   ],
   "source": [
    "g100=0\n",
    "for _ in range(10000):\n",
    "\n",
    "    unc=0\n",
    "    for i in range(2000):\n",
    "\n",
    "        a=np.random.choice([0,1], p=[0.01,0.99])\n",
    "\n",
    "        if a==0:\n",
    "            unc+=1\n",
    "    if unc>99:\n",
    "        g100+=1\n",
    "\n",
    "print(g100/10000)"
   ]
  },
  {
   "cell_type": "code",
   "execution_count": null,
   "metadata": {},
   "outputs": [],
   "source": [
    "from scipy.stats import binom"
   ]
  }
 ],
 "metadata": {
  "kernelspec": {
   "display_name": "base",
   "language": "python",
   "name": "python3"
  },
  "language_info": {
   "codemirror_mode": {
    "name": "ipython",
    "version": 3
   },
   "file_extension": ".py",
   "mimetype": "text/x-python",
   "name": "python",
   "nbconvert_exporter": "python",
   "pygments_lexer": "ipython3",
   "version": "3.9.12"
  },
  "orig_nbformat": 4
 },
 "nbformat": 4,
 "nbformat_minor": 2
}
